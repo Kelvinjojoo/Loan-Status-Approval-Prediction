{
 "cells": [
  {
   "cell_type": "markdown",
   "id": "e17d0300",
   "metadata": {},
   "source": [
    "# Loan Status Prediction"
   ]
  },
  {
   "cell_type": "code",
   "execution_count": 1,
   "id": "e6d8dd5d",
   "metadata": {},
   "outputs": [],
   "source": [
    "import pandas as pd\n",
    "import seaborn as sns\n",
    "\n",
    "from matplotlib import pyplot as plt\n",
    "\n",
    "from sklearn.model_selection import train_test_split, GridSearchCV\n",
    "from sklearn.preprocessing import OneHotEncoder, RobustScaler\n",
    "from sklearn.metrics import classification_report\n",
    "from sklearn.ensemble import RandomForestClassifier\n",
    "from xgboost import XGBClassifier\n",
    "\n",
    "import pickle"
   ]
  },
  {
   "cell_type": "markdown",
   "id": "77e16746",
   "metadata": {},
   "source": [
    "- Load semua Library yang saya perlukan"
   ]
  },
  {
   "cell_type": "markdown",
   "id": "ce90f954",
   "metadata": {},
   "source": [
    "## Understanding Data"
   ]
  },
  {
   "cell_type": "code",
   "execution_count": 2,
   "id": "e040f219",
   "metadata": {},
   "outputs": [
    {
     "name": "stdout",
     "output_type": "stream",
     "text": [
      "(45000, 14)\n"
     ]
    },
    {
     "data": {
      "text/html": [
       "<div>\n",
       "<style scoped>\n",
       "    .dataframe tbody tr th:only-of-type {\n",
       "        vertical-align: middle;\n",
       "    }\n",
       "\n",
       "    .dataframe tbody tr th {\n",
       "        vertical-align: top;\n",
       "    }\n",
       "\n",
       "    .dataframe thead th {\n",
       "        text-align: right;\n",
       "    }\n",
       "</style>\n",
       "<table border=\"1\" class=\"dataframe\">\n",
       "  <thead>\n",
       "    <tr style=\"text-align: right;\">\n",
       "      <th></th>\n",
       "      <th>person_age</th>\n",
       "      <th>person_gender</th>\n",
       "      <th>person_education</th>\n",
       "      <th>person_income</th>\n",
       "      <th>person_emp_exp</th>\n",
       "      <th>person_home_ownership</th>\n",
       "      <th>loan_amnt</th>\n",
       "      <th>loan_intent</th>\n",
       "      <th>loan_int_rate</th>\n",
       "      <th>loan_percent_income</th>\n",
       "      <th>cb_person_cred_hist_length</th>\n",
       "      <th>credit_score</th>\n",
       "      <th>previous_loan_defaults_on_file</th>\n",
       "      <th>loan_status</th>\n",
       "    </tr>\n",
       "  </thead>\n",
       "  <tbody>\n",
       "    <tr>\n",
       "      <th>0</th>\n",
       "      <td>22</td>\n",
       "      <td>female</td>\n",
       "      <td>Master</td>\n",
       "      <td>71948.0</td>\n",
       "      <td>0</td>\n",
       "      <td>RENT</td>\n",
       "      <td>35000</td>\n",
       "      <td>PERSONAL</td>\n",
       "      <td>16.02</td>\n",
       "      <td>0.49</td>\n",
       "      <td>3</td>\n",
       "      <td>561</td>\n",
       "      <td>No</td>\n",
       "      <td>1</td>\n",
       "    </tr>\n",
       "    <tr>\n",
       "      <th>1</th>\n",
       "      <td>21</td>\n",
       "      <td>female</td>\n",
       "      <td>High School</td>\n",
       "      <td>12282.0</td>\n",
       "      <td>0</td>\n",
       "      <td>OWN</td>\n",
       "      <td>1000</td>\n",
       "      <td>EDUCATION</td>\n",
       "      <td>11.14</td>\n",
       "      <td>0.08</td>\n",
       "      <td>2</td>\n",
       "      <td>504</td>\n",
       "      <td>Yes</td>\n",
       "      <td>0</td>\n",
       "    </tr>\n",
       "    <tr>\n",
       "      <th>2</th>\n",
       "      <td>25</td>\n",
       "      <td>female</td>\n",
       "      <td>High School</td>\n",
       "      <td>12438.0</td>\n",
       "      <td>3</td>\n",
       "      <td>MORTGAGE</td>\n",
       "      <td>5500</td>\n",
       "      <td>MEDICAL</td>\n",
       "      <td>12.87</td>\n",
       "      <td>0.44</td>\n",
       "      <td>3</td>\n",
       "      <td>635</td>\n",
       "      <td>No</td>\n",
       "      <td>1</td>\n",
       "    </tr>\n",
       "    <tr>\n",
       "      <th>3</th>\n",
       "      <td>23</td>\n",
       "      <td>female</td>\n",
       "      <td>Bachelor</td>\n",
       "      <td>79753.0</td>\n",
       "      <td>0</td>\n",
       "      <td>RENT</td>\n",
       "      <td>35000</td>\n",
       "      <td>MEDICAL</td>\n",
       "      <td>15.23</td>\n",
       "      <td>0.44</td>\n",
       "      <td>2</td>\n",
       "      <td>675</td>\n",
       "      <td>No</td>\n",
       "      <td>1</td>\n",
       "    </tr>\n",
       "    <tr>\n",
       "      <th>4</th>\n",
       "      <td>24</td>\n",
       "      <td>male</td>\n",
       "      <td>Master</td>\n",
       "      <td>66135.0</td>\n",
       "      <td>1</td>\n",
       "      <td>RENT</td>\n",
       "      <td>35000</td>\n",
       "      <td>MEDICAL</td>\n",
       "      <td>14.27</td>\n",
       "      <td>0.53</td>\n",
       "      <td>4</td>\n",
       "      <td>586</td>\n",
       "      <td>No</td>\n",
       "      <td>1</td>\n",
       "    </tr>\n",
       "  </tbody>\n",
       "</table>\n",
       "</div>"
      ],
      "text/plain": [
       "   person_age person_gender person_education  person_income  person_emp_exp  \\\n",
       "0          22        female           Master        71948.0               0   \n",
       "1          21        female      High School        12282.0               0   \n",
       "2          25        female      High School        12438.0               3   \n",
       "3          23        female         Bachelor        79753.0               0   \n",
       "4          24          male           Master        66135.0               1   \n",
       "\n",
       "  person_home_ownership  loan_amnt loan_intent  loan_int_rate  \\\n",
       "0                  RENT      35000    PERSONAL          16.02   \n",
       "1                   OWN       1000   EDUCATION          11.14   \n",
       "2              MORTGAGE       5500     MEDICAL          12.87   \n",
       "3                  RENT      35000     MEDICAL          15.23   \n",
       "4                  RENT      35000     MEDICAL          14.27   \n",
       "\n",
       "   loan_percent_income  cb_person_cred_hist_length  credit_score  \\\n",
       "0                 0.49                           3           561   \n",
       "1                 0.08                           2           504   \n",
       "2                 0.44                           3           635   \n",
       "3                 0.44                           2           675   \n",
       "4                 0.53                           4           586   \n",
       "\n",
       "  previous_loan_defaults_on_file  loan_status  \n",
       "0                             No            1  \n",
       "1                            Yes            0  \n",
       "2                             No            1  \n",
       "3                             No            1  \n",
       "4                             No            1  "
      ]
     },
     "execution_count": 2,
     "metadata": {},
     "output_type": "execute_result"
    }
   ],
   "source": [
    "df= pd.read_csv('Dataset_A_loan.csv')\n",
    "print(df.shape)\n",
    "df.head()"
   ]
  },
  {
   "cell_type": "markdown",
   "id": "991a4f7c",
   "metadata": {},
   "source": [
    "- Load datasetnya dan melihat 5 contoh sample data tersebut\n",
    "- Saya juga menampilkan shape dari data itu untuk mengetahui jumlah baris dan kolom dari dataset tersebut "
   ]
  },
  {
   "cell_type": "code",
   "execution_count": 3,
   "id": "75492501",
   "metadata": {},
   "outputs": [
    {
     "name": "stdout",
     "output_type": "stream",
     "text": [
      "<class 'pandas.core.frame.DataFrame'>\n",
      "RangeIndex: 45000 entries, 0 to 44999\n",
      "Data columns (total 14 columns):\n",
      " #   Column                          Non-Null Count  Dtype  \n",
      "---  ------                          --------------  -----  \n",
      " 0   person_age                      45000 non-null  int64  \n",
      " 1   person_gender                   45000 non-null  object \n",
      " 2   person_education                45000 non-null  object \n",
      " 3   person_income                   42750 non-null  float64\n",
      " 4   person_emp_exp                  45000 non-null  int64  \n",
      " 5   person_home_ownership           45000 non-null  object \n",
      " 6   loan_amnt                       45000 non-null  int64  \n",
      " 7   loan_intent                     45000 non-null  object \n",
      " 8   loan_int_rate                   45000 non-null  float64\n",
      " 9   loan_percent_income             45000 non-null  float64\n",
      " 10  cb_person_cred_hist_length      45000 non-null  int64  \n",
      " 11  credit_score                    45000 non-null  int64  \n",
      " 12  previous_loan_defaults_on_file  45000 non-null  object \n",
      " 13  loan_status                     45000 non-null  int64  \n",
      "dtypes: float64(3), int64(6), object(5)\n",
      "memory usage: 4.8+ MB\n"
     ]
    }
   ],
   "source": [
    "df.info()"
   ]
  },
  {
   "cell_type": "markdown",
   "id": "47209c4d",
   "metadata": {},
   "source": [
    "- Selain melihat jumlah baris dan kolom, saya juga check kesesuaian tipe data dan melihat apakah ada Null Values pada setiap kolom\n",
    "- Berdasarkan hasil, tipe data sudah sesusai dan kolom person_income memiliki Null Values"
   ]
  },
  {
   "cell_type": "code",
   "execution_count": 4,
   "id": "6c5949b8",
   "metadata": {},
   "outputs": [
    {
     "data": {
      "text/plain": [
       "loan_status\n",
       "0    35000\n",
       "1    10000\n",
       "Name: count, dtype: int64"
      ]
     },
     "execution_count": 4,
     "metadata": {},
     "output_type": "execute_result"
    }
   ],
   "source": [
    "df.loan_status.value_counts()"
   ]
  },
  {
   "cell_type": "markdown",
   "id": "4e2b63ec",
   "metadata": {},
   "source": [
    "- Perbandingan loan status menunjukkan ketidakseimbangan kelas"
   ]
  },
  {
   "cell_type": "markdown",
   "id": "856f874c",
   "metadata": {},
   "source": [
    "## Pre-processing"
   ]
  },
  {
   "cell_type": "markdown",
   "id": "734b77ff",
   "metadata": {},
   "source": [
    "### Split Data"
   ]
  },
  {
   "cell_type": "code",
   "execution_count": 5,
   "id": "8a472fbb",
   "metadata": {},
   "outputs": [],
   "source": [
    "x= df[df.columns.drop(['loan_status'])]\n",
    "y= df['loan_status']"
   ]
  },
  {
   "cell_type": "markdown",
   "id": "e24ee292",
   "metadata": {},
   "source": [
    "- Memisahkan kolom yang akan di prediksi (y) dengan kolom fitur (x)"
   ]
  },
  {
   "cell_type": "code",
   "execution_count": 6,
   "id": "9a0dfb03",
   "metadata": {},
   "outputs": [],
   "source": [
    "x_train, x_test, y_train, y_test= train_test_split(x, y, test_size= 0.2, random_state= 42)"
   ]
  },
  {
   "cell_type": "markdown",
   "id": "cfe42f62",
   "metadata": {},
   "source": [
    "- Data dibagi menjadi train dan test dengan proporsi 80:20. Pemisahan ini bertujuan agar model dapat berlatih dan diuji dengan data yang belom pernah dilihat"
   ]
  },
  {
   "cell_type": "code",
   "execution_count": 7,
   "id": "3a1a0eeb",
   "metadata": {},
   "outputs": [
    {
     "name": "stdout",
     "output_type": "stream",
     "text": [
      "Distribution loan_status in train data\n",
      "loan_status\n",
      "0    28010\n",
      "1     7990\n",
      "Name: count, dtype: int64\n",
      "\n",
      "Distribution loan_status in test data\n",
      "loan_status\n",
      "0    6990\n",
      "1    2010\n",
      "Name: count, dtype: int64\n"
     ]
    }
   ],
   "source": [
    "print(\"Distribution loan_status in train data\")\n",
    "print(pd.Series(y_train).value_counts())\n",
    "\n",
    "print(\"\\nDistribution loan_status in test data\")\n",
    "print(pd.Series(y_test).value_counts())"
   ]
  },
  {
   "cell_type": "markdown",
   "id": "cfe377e7",
   "metadata": {},
   "source": [
    "- Disini cuman mau lihat distribusi kolom yang mau diprediksi di data train dan test. Karena dari awal distribusinya tidak merata, maka disini juga sudah pasti tidak merata\n",
    "- Bila nanti hasil modelnya jelek, nanti akan dilakukan sampling"
   ]
  },
  {
   "cell_type": "markdown",
   "id": "dedad92c",
   "metadata": {},
   "source": [
    "### Null Value Handling"
   ]
  },
  {
   "cell_type": "code",
   "execution_count": 8,
   "id": "fcf62aec",
   "metadata": {},
   "outputs": [
    {
     "name": "stdout",
     "output_type": "stream",
     "text": [
      "Null Values in x train\n",
      "person_age                           0\n",
      "person_gender                        0\n",
      "person_education                     0\n",
      "person_income                     1769\n",
      "person_emp_exp                       0\n",
      "person_home_ownership                0\n",
      "loan_amnt                            0\n",
      "loan_intent                          0\n",
      "loan_int_rate                        0\n",
      "loan_percent_income                  0\n",
      "cb_person_cred_hist_length           0\n",
      "credit_score                         0\n",
      "previous_loan_defaults_on_file       0\n",
      "dtype: int64\n"
     ]
    }
   ],
   "source": [
    "print('Null Values in x train')\n",
    "print(x_train.isnull().sum())"
   ]
  },
  {
   "cell_type": "markdown",
   "id": "5c613eaf",
   "metadata": {},
   "source": [
    "- Seperti yang sudah kita lihat di df.info() tadi, kolom person_income ada Null Values\n",
    "- Data ini akan saya impute agar tidak mengurangi jumlah data yang dapat dilakukan untuk proses training serta mempertahankan informasi sebanyak mungkin"
   ]
  },
  {
   "cell_type": "code",
   "execution_count": 9,
   "id": "80e97d23",
   "metadata": {},
   "outputs": [
    {
     "data": {
      "image/png": "[encoded data removed]",
      "text/plain": [
       "<Figure size 800x500 with 1 Axes>"
      ]
     },
     "metadata": {},
     "output_type": "display_data"
    },
    {
     "name": "stdout",
     "output_type": "stream",
     "text": [
      "Median Person Income: 67104.0\n"
     ]
    }
   ],
   "source": [
    "plt.figure(figsize= (8,5))\n",
    "sns.boxplot(y= x_train['person_income'])\n",
    "plt.xlabel('Person Income')\n",
    "plt.show()\n",
    "\n",
    "print(f\"Median Person Income: {x_train['person_income'].median()}\")"
   ]
  },
  {
   "cell_type": "markdown",
   "id": "5e22ebaa",
   "metadata": {},
   "source": [
    "- Karena data memiliki outliers yang cukup ekstrem, maka saya melakukan impute dengan median. Penggunaan median bertujuan agar hasil imputenya tidak terganggu dengan nilai ekstrem dan tetap merepresentasikan nilai tengah dengan benar"
   ]
  },
  {
   "cell_type": "code",
   "execution_count": 10,
   "id": "1a3dad8d",
   "metadata": {},
   "outputs": [
    {
     "name": "stderr",
     "output_type": "stream",
     "text": [
      "C:\\Users\\Kelvin Jonathan\\AppData\\Local\\Temp\\ipykernel_26020\\1278838016.py:1: FutureWarning: A value is trying to be set on a copy of a DataFrame or Series through chained assignment using an inplace method.\n",
      "The behavior will change in pandas 3.0. This inplace method will never work because the intermediate object on which we are setting values always behaves as a copy.\n",
      "\n",
      "For example, when doing 'df[col].method(value, inplace=True)', try using 'df.method({col: value}, inplace=True)' or df[col] = df[col].method(value) instead, to perform the operation inplace on the original object.\n",
      "\n",
      "\n",
      "  x_train['person_income'].fillna(x_train['person_income'].median(), inplace= True)\n",
      "C:\\Users\\Kelvin Jonathan\\AppData\\Local\\Temp\\ipykernel_26020\\1278838016.py:3: FutureWarning: A value is trying to be set on a copy of a DataFrame or Series through chained assignment using an inplace method.\n",
      "The behavior will change in pandas 3.0. This inplace method will never work because the intermediate object on which we are setting values always behaves as a copy.\n",
      "\n",
      "For example, when doing 'df[col].method(value, inplace=True)', try using 'df.method({col: value}, inplace=True)' or df[col] = df[col].method(value) instead, to perform the operation inplace on the original object.\n",
      "\n",
      "\n",
      "  x_test['person_income'].fillna(x_test['person_income'].median(), inplace= True)\n"
     ]
    }
   ],
   "source": [
    "x_train['person_income'].fillna(x_train['person_income'].median(), inplace= True)\n",
    "\n",
    "x_test['person_income'].fillna(x_test['person_income'].median(), inplace= True)"
   ]
  },
  {
   "cell_type": "markdown",
   "id": "99530336",
   "metadata": {},
   "source": [
    "- Melakukan imputasi dengan nilai median\n",
    "- Preprocessing harus diterapkan pada data test juga agar konsisten dan memastikan model menerima data dengan struktur dan skala yang sama seperti data latih"
   ]
  },
  {
   "cell_type": "code",
   "execution_count": 11,
   "id": "16166598",
   "metadata": {},
   "outputs": [
    {
     "name": "stdout",
     "output_type": "stream",
     "text": [
      "Null Values in x train\n",
      "person_age                        0\n",
      "person_gender                     0\n",
      "person_education                  0\n",
      "person_income                     0\n",
      "person_emp_exp                    0\n",
      "person_home_ownership             0\n",
      "loan_amnt                         0\n",
      "loan_intent                       0\n",
      "loan_int_rate                     0\n",
      "loan_percent_income               0\n",
      "cb_person_cred_hist_length        0\n",
      "credit_score                      0\n",
      "previous_loan_defaults_on_file    0\n",
      "dtype: int64\n"
     ]
    }
   ],
   "source": [
    "print('Null Values in x train')\n",
    "print(x_train.isnull().sum())"
   ]
  },
  {
   "cell_type": "markdown",
   "id": "79b9bac1",
   "metadata": {},
   "source": [
    "- Null Values sudah di handle dengan benar"
   ]
  },
  {
   "cell_type": "markdown",
   "id": "723e3657",
   "metadata": {},
   "source": [
    "### Duplicate Data Handling"
   ]
  },
  {
   "cell_type": "code",
   "execution_count": 12,
   "id": "c47ecb49",
   "metadata": {},
   "outputs": [
    {
     "name": "stdout",
     "output_type": "stream",
     "text": [
      "0\n"
     ]
    }
   ],
   "source": [
    "print(x_train.duplicated().sum())"
   ]
  },
  {
   "cell_type": "markdown",
   "id": "49e098a7",
   "metadata": {},
   "source": [
    "- Tidak ada data duplikat sehingga tidak perlu di handle lebih lanjut"
   ]
  },
  {
   "cell_type": "markdown",
   "id": "37902ae6",
   "metadata": {},
   "source": [
    "### Anomaly Handling"
   ]
  },
  {
   "cell_type": "code",
   "execution_count": 14,
   "id": "5fb6616e",
   "metadata": {},
   "outputs": [
    {
     "name": "stdout",
     "output_type": "stream",
     "text": [
      "Kolom Categorial: ['person_gender', 'person_education', 'person_home_ownership', 'loan_intent', 'previous_loan_defaults_on_file']\n",
      "Kolom Numerical: ['person_age', 'person_income', 'person_emp_exp', 'loan_amnt', 'loan_int_rate', 'loan_percent_income', 'cb_person_cred_hist_length', 'credit_score']\n"
     ]
    }
   ],
   "source": [
    "category= []\n",
    "numerical= []\n",
    "\n",
    "for i in x_train.columns:\n",
    "  if 'int'in str(x_train[i].dtype) or 'float' in str(x_train[i].dtype):\n",
    "    numerical.append(i)\n",
    "  else:\n",
    "    category.append(i)\n",
    "\n",
    "print(f\"Kolom Categorial: {category}\")\n",
    "print(f\"Kolom Numerical: {numerical}\")"
   ]
  },
  {
   "cell_type": "markdown",
   "id": "5f4144b4",
   "metadata": {},
   "source": [
    "- Kolom dipisahkan menjadi kolom kategori dan numerik untuk memudahkan analisis distribusi dan kesalahan pada setiap kolom"
   ]
  },
  {
   "cell_type": "code",
   "execution_count": 15,
   "id": "9b785610",
   "metadata": {},
   "outputs": [
    {
     "name": "stdout",
     "output_type": "stream",
     "text": [
      "person_gender\n",
      "male       19782\n",
      "female     16149\n",
      "Male          35\n",
      "fe male       34\n",
      "Name: count, dtype: int64 \n",
      "\n",
      "person_education\n",
      "Bachelor       10772\n",
      "Associate       9607\n",
      "High School     9508\n",
      "Master          5609\n",
      "Doctorate        504\n",
      "Name: count, dtype: int64 \n",
      "\n",
      "person_home_ownership\n",
      "RENT        18727\n",
      "MORTGAGE    14795\n",
      "OWN          2379\n",
      "OTHER          99\n",
      "Name: count, dtype: int64 \n",
      "\n",
      "loan_intent\n",
      "EDUCATION            7381\n",
      "MEDICAL              6818\n",
      "VENTURE              6227\n",
      "PERSONAL             6030\n",
      "DEBTCONSOLIDATION    5731\n",
      "HOMEIMPROVEMENT      3813\n",
      "Name: count, dtype: int64 \n",
      "\n",
      "previous_loan_defaults_on_file\n",
      "Yes    18253\n",
      "No     17747\n",
      "Name: count, dtype: int64 \n",
      "\n"
     ]
    }
   ],
   "source": [
    "for i in category:\n",
    "  print(x_train[i].value_counts(), '\\n')"
   ]
  },
  {
   "cell_type": "markdown",
   "id": "99372ffb",
   "metadata": {},
   "source": [
    "- Disini terlihat semua distribusi dan unique values pada setiap kolom kategori\n",
    "- Kolom person_gender memiliki anomali dimana adanya ketidak konsisten dalam penulisan male dan kesalahan penulisan pada female. Seharusnya semua di samakan menjadi male dan female\n",
    "- kolom loan_intent memiliki kesalahan penulisan dimana adanya pegabungan dua kata, yaitu DEBTCONSOLIDATION dan HOMEIMPROVEMENT yang seharusnya DEBT CONSOLIDATION dan HOME IMPROVEMENT. \n",
    "- Selain itu, adanya ketidak konsisten dalam penulisan huruf besar dan kecil. Sehingga, nanti akan saya ubah mereka agar seragam dengan penulisan huruf besar setiap awal kata"
   ]
  },
  {
   "cell_type": "markdown",
   "id": "204c77cc",
   "metadata": {},
   "source": [
    "#### Gender Column Anomaly Handling"
   ]
  },
  {
   "cell_type": "code",
   "execution_count": 16,
   "id": "e1192662",
   "metadata": {},
   "outputs": [],
   "source": [
    "x_train['person_gender']= x_train['person_gender'].str.lower().str.replace(\" \", \"\").replace({\"fe male\": \"female\"})\n",
    "x_test['person_gender']= x_test['person_gender'].str.lower().str.replace(\" \", \"\").replace({\"fe male\": \"female\"})"
   ]
  },
  {
   "cell_type": "markdown",
   "id": "e43b6de8",
   "metadata": {},
   "source": [
    "- Untuk value Male dan male akan saya seragamkan menjadi male dengan .lower()\n",
    "- Untuk value fe male akan saya perbaiki menjadi female dengan .replace()"
   ]
  },
  {
   "cell_type": "markdown",
   "id": "355fdd96",
   "metadata": {},
   "source": [
    "#### Loan Intent Anomaly Handling"
   ]
  },
  {
   "cell_type": "code",
   "execution_count": 17,
   "id": "a57d9f78",
   "metadata": {},
   "outputs": [],
   "source": [
    "x_train['loan_intent']= x_train['loan_intent'].replace({\n",
    "  'DEBTCONSOLIDATION': 'DEBT CONSOLIDATION',\n",
    "  'HOMEIMPROVEMENT': 'HOME IMPROVEMENT'\n",
    "})\n",
    "\n",
    "x_test['loan_intent']= x_test['loan_intent'].replace({\n",
    "  'DEBTCONSOLIDATION': 'DEBT CONSOLIDATION',\n",
    "  'HOMEIMPROVEMENT': 'HOME IMPROVEMENT'\n",
    "})"
   ]
  },
  {
   "cell_type": "markdown",
   "id": "1bd2ca65",
   "metadata": {},
   "source": [
    "- Value DEBTCONSOLIDATION akan saya ubah menjadi DEBT CONSOLIDATION dan value HOMEIMPROVEMENT akan saya ubah menjadi HOME IMPROVEMENT dengan menggunakan .replace()"
   ]
  },
  {
   "cell_type": "markdown",
   "id": "db5c80bf",
   "metadata": {},
   "source": [
    "#### Apply Title Case in Categorical Columns "
   ]
  },
  {
   "cell_type": "code",
   "execution_count": 18,
   "id": "4f6a4189",
   "metadata": {},
   "outputs": [],
   "source": [
    "for col in category:\n",
    "  x_train[col]= x_train[col].astype(str).str.strip().str.title()\n",
    "  x_test[col]= x_test[col].astype(str).str.strip().str.title()"
   ]
  },
  {
   "cell_type": "markdown",
   "id": "fbf6b5e9",
   "metadata": {},
   "source": [
    "- Agar penulisan semua kolom menjadi huruf besar pada awal kata seperti penulisan judul, maka saya akan memakai .title()"
   ]
  },
  {
   "cell_type": "markdown",
   "id": "c1b6b4a6",
   "metadata": {},
   "source": [
    "#### Re-check"
   ]
  },
  {
   "cell_type": "code",
   "execution_count": 19,
   "id": "a464f538",
   "metadata": {},
   "outputs": [
    {
     "name": "stdout",
     "output_type": "stream",
     "text": [
      "person_gender\n",
      "Male      19817\n",
      "Female    16183\n",
      "Name: count, dtype: int64 \n",
      "\n",
      "person_education\n",
      "Bachelor       10772\n",
      "Associate       9607\n",
      "High School     9508\n",
      "Master          5609\n",
      "Doctorate        504\n",
      "Name: count, dtype: int64 \n",
      "\n",
      "person_home_ownership\n",
      "Rent        18727\n",
      "Mortgage    14795\n",
      "Own          2379\n",
      "Other          99\n",
      "Name: count, dtype: int64 \n",
      "\n",
      "loan_intent\n",
      "Education             7381\n",
      "Medical               6818\n",
      "Venture               6227\n",
      "Personal              6030\n",
      "Debt Consolidation    5731\n",
      "Home Improvement      3813\n",
      "Name: count, dtype: int64 \n",
      "\n",
      "previous_loan_defaults_on_file\n",
      "Yes    18253\n",
      "No     17747\n",
      "Name: count, dtype: int64 \n",
      "\n"
     ]
    }
   ],
   "source": [
    "for i in category:\n",
    "  print(x_train[i].value_counts(), '\\n')"
   ]
  },
  {
   "cell_type": "markdown",
   "id": "6436b611",
   "metadata": {},
   "source": [
    "- Semua kolom kategori sudah terstruktur dengan baik dalam penulisan sehingga analisis sudah bisa dilakukan dengan lebih mudah\n",
    "  - person_gender menunjukan distribusi gender cukup merata sehingga peminjaman tidak dibataskan oleh gender seseorang\n",
    "  - person_education menunjukan bahwa peminjaman dapat dilakukan oleh anak SMA hingga S3. Kebanyakan dilakukan oleh S1\n",
    "  - person_home_ownership menunjukan peminjaman dilakukan oleh orang yang memiliki tempat tinggal sewa, masih KPR, sudah memiliki rumah sendiri, dan other yang mungkin berarti tidak memiliki tempat tinggal tetap atau lainnya. Kebanyakan pinjaman dilakukan oleh orang yang masih nyewa dan menyicil KPR rumah\n",
    "  - loan_intent menunjukkan peminjaman dilakukan untuk kepentingan pribadi, edukasi, kesehatan, usaha, mempermudah manajemen utang, dan renovasi rumah. Tujuannya cukup tersebar rata kecuali renovasi rumah\n",
    "  - previous_loan_defaults_on_file menunjukkan apakah orang itu punya riwayat gagal bayar ga sebelomnya. Secara distribusi cukup seimbang, ada yang gagal ada yang berhasil.\n",
    "\n"
   ]
  },
  {
   "cell_type": "markdown",
   "id": "f6657d30",
   "metadata": {},
   "source": [
    "### Encoding"
   ]
  },
  {
   "cell_type": "markdown",
   "id": "0c503982",
   "metadata": {},
   "source": [
    "#### Binary Encoding"
   ]
  },
  {
   "cell_type": "markdown",
   "id": "2a5c7038",
   "metadata": {},
   "source": [
    "##### Person Gender"
   ]
  },
  {
   "cell_type": "code",
   "execution_count": 20,
   "id": "63a1796b",
   "metadata": {},
   "outputs": [
    {
     "name": "stderr",
     "output_type": "stream",
     "text": [
      "C:\\Users\\Kelvin Jonathan\\AppData\\Local\\Temp\\ipykernel_26020\\3368923271.py:3: FutureWarning: Downcasting behavior in `replace` is deprecated and will be removed in a future version. To retain the old behavior, explicitly call `result.infer_objects(copy=False)`. To opt-in to the future behavior, set `pd.set_option('future.no_silent_downcasting', True)`\n",
      "  x_train= x_train.replace(gender_encoder)\n",
      "C:\\Users\\Kelvin Jonathan\\AppData\\Local\\Temp\\ipykernel_26020\\3368923271.py:4: FutureWarning: Downcasting behavior in `replace` is deprecated and will be removed in a future version. To retain the old behavior, explicitly call `result.infer_objects(copy=False)`. To opt-in to the future behavior, set `pd.set_option('future.no_silent_downcasting', True)`\n",
      "  x_test= x_test.replace(gender_encoder)\n"
     ]
    }
   ],
   "source": [
    "gender_encoder= {\"person_gender\": {\"Male\": 1, \"Female\": 0}}\n",
    "\n",
    "x_train= x_train.replace(gender_encoder)\n",
    "x_test= x_test.replace(gender_encoder)"
   ]
  },
  {
   "cell_type": "markdown",
   "id": "adc417c4",
   "metadata": {},
   "source": [
    "- Encoding dilakukan karena model hanya bisa menerima format numerik\n",
    "- Karena person_gender hanya memiliki dua values maka dilakukan binary encoding dengan Male menjadi 1 dan Female menjadi 0"
   ]
  },
  {
   "cell_type": "code",
   "execution_count": 868,
   "id": "f872f59e",
   "metadata": {},
   "outputs": [],
   "source": [
    "pickle.dump(gender_encoder, open(\"gender_encode.pkl\", \"wb\"))"
   ]
  },
  {
   "cell_type": "markdown",
   "id": "92e72228",
   "metadata": {},
   "source": [
    "- Semua encoder disimpan dalam format pickle agar dapat dipakai lagi saat proses pembuatan kode inferencing tanpa harus encoding manual lagi"
   ]
  },
  {
   "cell_type": "markdown",
   "id": "e6374110",
   "metadata": {},
   "source": [
    "##### Previous Loan Defaults on File"
   ]
  },
  {
   "cell_type": "code",
   "execution_count": 21,
   "id": "f32d122f",
   "metadata": {},
   "outputs": [
    {
     "name": "stderr",
     "output_type": "stream",
     "text": [
      "C:\\Users\\Kelvin Jonathan\\AppData\\Local\\Temp\\ipykernel_26020\\4190572091.py:3: FutureWarning: Downcasting behavior in `replace` is deprecated and will be removed in a future version. To retain the old behavior, explicitly call `result.infer_objects(copy=False)`. To opt-in to the future behavior, set `pd.set_option('future.no_silent_downcasting', True)`\n",
      "  x_train= x_train.replace(previous_loan_encoder)\n",
      "C:\\Users\\Kelvin Jonathan\\AppData\\Local\\Temp\\ipykernel_26020\\4190572091.py:4: FutureWarning: Downcasting behavior in `replace` is deprecated and will be removed in a future version. To retain the old behavior, explicitly call `result.infer_objects(copy=False)`. To opt-in to the future behavior, set `pd.set_option('future.no_silent_downcasting', True)`\n",
      "  x_test= x_test.replace(previous_loan_encoder)\n"
     ]
    }
   ],
   "source": [
    "previous_loan_encoder= {\"previous_loan_defaults_on_file\": {\"Yes\": 1, \"No\": 0}}\n",
    "\n",
    "x_train= x_train.replace(previous_loan_encoder)\n",
    "x_test= x_test.replace(previous_loan_encoder)"
   ]
  },
  {
   "cell_type": "markdown",
   "id": "2e6db90e",
   "metadata": {},
   "source": [
    "- Karena previous_loan_defaults_on_file hanya memiliki dua values maka dilakukan binary encoding dengan Yes menjadi 1 dan No menjadi 0"
   ]
  },
  {
   "cell_type": "code",
   "execution_count": 870,
   "id": "a7a11a35",
   "metadata": {},
   "outputs": [],
   "source": [
    "pickle.dump(previous_loan_encoder, open(\"previous_loan_encode.pkl\", \"wb\"))"
   ]
  },
  {
   "cell_type": "markdown",
   "id": "f43e98cf",
   "metadata": {},
   "source": [
    "- Semua encoder disimpan dalam format pickle agar dapat dipakai lagi saat proses pembuatan kode inferencing tanpa harus encoding manual lagi"
   ]
  },
  {
   "cell_type": "markdown",
   "id": "7c270552",
   "metadata": {},
   "source": [
    "##### Re-check"
   ]
  },
  {
   "cell_type": "code",
   "execution_count": 22,
   "id": "3fa53ade",
   "metadata": {},
   "outputs": [
    {
     "data": {
      "text/html": [
       "<div>\n",
       "<style scoped>\n",
       "    .dataframe tbody tr th:only-of-type {\n",
       "        vertical-align: middle;\n",
       "    }\n",
       "\n",
       "    .dataframe tbody tr th {\n",
       "        vertical-align: top;\n",
       "    }\n",
       "\n",
       "    .dataframe thead th {\n",
       "        text-align: right;\n",
       "    }\n",
       "</style>\n",
       "<table border=\"1\" class=\"dataframe\">\n",
       "  <thead>\n",
       "    <tr style=\"text-align: right;\">\n",
       "      <th></th>\n",
       "      <th>person_age</th>\n",
       "      <th>person_gender</th>\n",
       "      <th>person_education</th>\n",
       "      <th>person_income</th>\n",
       "      <th>person_emp_exp</th>\n",
       "      <th>person_home_ownership</th>\n",
       "      <th>loan_amnt</th>\n",
       "      <th>loan_intent</th>\n",
       "      <th>loan_int_rate</th>\n",
       "      <th>loan_percent_income</th>\n",
       "      <th>cb_person_cred_hist_length</th>\n",
       "      <th>credit_score</th>\n",
       "      <th>previous_loan_defaults_on_file</th>\n",
       "    </tr>\n",
       "  </thead>\n",
       "  <tbody>\n",
       "    <tr>\n",
       "      <th>25180</th>\n",
       "      <td>34</td>\n",
       "      <td>0</td>\n",
       "      <td>Bachelor</td>\n",
       "      <td>97265.0</td>\n",
       "      <td>11</td>\n",
       "      <td>Mortgage</td>\n",
       "      <td>15000</td>\n",
       "      <td>Personal</td>\n",
       "      <td>12.73</td>\n",
       "      <td>0.15</td>\n",
       "      <td>9</td>\n",
       "      <td>631</td>\n",
       "      <td>0</td>\n",
       "    </tr>\n",
       "    <tr>\n",
       "      <th>12555</th>\n",
       "      <td>25</td>\n",
       "      <td>1</td>\n",
       "      <td>High School</td>\n",
       "      <td>67104.0</td>\n",
       "      <td>3</td>\n",
       "      <td>Rent</td>\n",
       "      <td>12000</td>\n",
       "      <td>Venture</td>\n",
       "      <td>11.86</td>\n",
       "      <td>0.16</td>\n",
       "      <td>4</td>\n",
       "      <td>659</td>\n",
       "      <td>1</td>\n",
       "    </tr>\n",
       "    <tr>\n",
       "      <th>29153</th>\n",
       "      <td>41</td>\n",
       "      <td>0</td>\n",
       "      <td>Master</td>\n",
       "      <td>322597.0</td>\n",
       "      <td>18</td>\n",
       "      <td>Mortgage</td>\n",
       "      <td>24000</td>\n",
       "      <td>Personal</td>\n",
       "      <td>10.37</td>\n",
       "      <td>0.07</td>\n",
       "      <td>11</td>\n",
       "      <td>683</td>\n",
       "      <td>1</td>\n",
       "    </tr>\n",
       "    <tr>\n",
       "      <th>23838</th>\n",
       "      <td>27</td>\n",
       "      <td>1</td>\n",
       "      <td>Associate</td>\n",
       "      <td>94232.0</td>\n",
       "      <td>4</td>\n",
       "      <td>Rent</td>\n",
       "      <td>9600</td>\n",
       "      <td>Education</td>\n",
       "      <td>17.14</td>\n",
       "      <td>0.10</td>\n",
       "      <td>7</td>\n",
       "      <td>641</td>\n",
       "      <td>0</td>\n",
       "    </tr>\n",
       "    <tr>\n",
       "      <th>35686</th>\n",
       "      <td>27</td>\n",
       "      <td>1</td>\n",
       "      <td>Master</td>\n",
       "      <td>67104.0</td>\n",
       "      <td>7</td>\n",
       "      <td>Rent</td>\n",
       "      <td>7059</td>\n",
       "      <td>Home Improvement</td>\n",
       "      <td>12.97</td>\n",
       "      <td>0.08</td>\n",
       "      <td>3</td>\n",
       "      <td>706</td>\n",
       "      <td>1</td>\n",
       "    </tr>\n",
       "  </tbody>\n",
       "</table>\n",
       "</div>"
      ],
      "text/plain": [
       "       person_age  person_gender person_education  person_income  \\\n",
       "25180          34              0         Bachelor        97265.0   \n",
       "12555          25              1      High School        67104.0   \n",
       "29153          41              0           Master       322597.0   \n",
       "23838          27              1        Associate        94232.0   \n",
       "35686          27              1           Master        67104.0   \n",
       "\n",
       "       person_emp_exp person_home_ownership  loan_amnt       loan_intent  \\\n",
       "25180              11              Mortgage      15000          Personal   \n",
       "12555               3                  Rent      12000           Venture   \n",
       "29153              18              Mortgage      24000          Personal   \n",
       "23838               4                  Rent       9600         Education   \n",
       "35686               7                  Rent       7059  Home Improvement   \n",
       "\n",
       "       loan_int_rate  loan_percent_income  cb_person_cred_hist_length  \\\n",
       "25180          12.73                 0.15                           9   \n",
       "12555          11.86                 0.16                           4   \n",
       "29153          10.37                 0.07                          11   \n",
       "23838          17.14                 0.10                           7   \n",
       "35686          12.97                 0.08                           3   \n",
       "\n",
       "       credit_score  previous_loan_defaults_on_file  \n",
       "25180           631                               0  \n",
       "12555           659                               1  \n",
       "29153           683                               1  \n",
       "23838           641                               0  \n",
       "35686           706                               1  "
      ]
     },
     "execution_count": 22,
     "metadata": {},
     "output_type": "execute_result"
    }
   ],
   "source": [
    "x_train.head()"
   ]
  },
  {
   "cell_type": "markdown",
   "id": "190c5fef",
   "metadata": {},
   "source": [
    "- Hasilnya sudah benar"
   ]
  },
  {
   "cell_type": "markdown",
   "id": "e3420f9a",
   "metadata": {},
   "source": [
    "#### Ordinal Encoding"
   ]
  },
  {
   "cell_type": "markdown",
   "id": "26ea4232",
   "metadata": {},
   "source": [
    "##### Person Education"
   ]
  },
  {
   "cell_type": "code",
   "execution_count": 23,
   "id": "17667e33",
   "metadata": {},
   "outputs": [
    {
     "name": "stderr",
     "output_type": "stream",
     "text": [
      "C:\\Users\\Kelvin Jonathan\\AppData\\Local\\Temp\\ipykernel_26020\\3993116066.py:3: FutureWarning: Downcasting behavior in `replace` is deprecated and will be removed in a future version. To retain the old behavior, explicitly call `result.infer_objects(copy=False)`. To opt-in to the future behavior, set `pd.set_option('future.no_silent_downcasting', True)`\n",
      "  x_train= x_train.replace(person_education_encoder)\n",
      "C:\\Users\\Kelvin Jonathan\\AppData\\Local\\Temp\\ipykernel_26020\\3993116066.py:4: FutureWarning: Downcasting behavior in `replace` is deprecated and will be removed in a future version. To retain the old behavior, explicitly call `result.infer_objects(copy=False)`. To opt-in to the future behavior, set `pd.set_option('future.no_silent_downcasting', True)`\n",
      "  x_test= x_test.replace(person_education_encoder)\n"
     ]
    }
   ],
   "source": [
    "person_education_encoder= {\"person_education\": {\"High School\": 0, \"Associate\": 1, \"Bachelor\": 2, \"Master\": 3, \"Doctorate\": 4}}\n",
    "\n",
    "x_train= x_train.replace(person_education_encoder)\n",
    "x_test= x_test.replace(person_education_encoder)"
   ]
  },
  {
   "cell_type": "markdown",
   "id": "cfe793fb",
   "metadata": {},
   "source": [
    "- Karena kolom person_education memiliki urutan yaitu High School pasti lebih rendah dari pada Associate dan seterusnya, maka saya akan memakai ordinal encoding"
   ]
  },
  {
   "cell_type": "code",
   "execution_count": 874,
   "id": "0d273b3b",
   "metadata": {},
   "outputs": [],
   "source": [
    "pickle.dump(person_education_encoder, open(\"person_education_encode.pkl\", \"wb\"))"
   ]
  },
  {
   "cell_type": "markdown",
   "id": "13283fa1",
   "metadata": {},
   "source": [
    "- Semua encoder disimpan dalam format pickle agar dapat dipakai lagi saat proses pembuatan kode inferencing tanpa harus encoding manual lagi"
   ]
  },
  {
   "cell_type": "markdown",
   "id": "13d511e8",
   "metadata": {},
   "source": [
    "##### Re-check"
   ]
  },
  {
   "cell_type": "code",
   "execution_count": 24,
   "id": "a1aa8cd0",
   "metadata": {},
   "outputs": [
    {
     "data": {
      "text/html": [
       "<div>\n",
       "<style scoped>\n",
       "    .dataframe tbody tr th:only-of-type {\n",
       "        vertical-align: middle;\n",
       "    }\n",
       "\n",
       "    .dataframe tbody tr th {\n",
       "        vertical-align: top;\n",
       "    }\n",
       "\n",
       "    .dataframe thead th {\n",
       "        text-align: right;\n",
       "    }\n",
       "</style>\n",
       "<table border=\"1\" class=\"dataframe\">\n",
       "  <thead>\n",
       "    <tr style=\"text-align: right;\">\n",
       "      <th></th>\n",
       "      <th>person_age</th>\n",
       "      <th>person_gender</th>\n",
       "      <th>person_education</th>\n",
       "      <th>person_income</th>\n",
       "      <th>person_emp_exp</th>\n",
       "      <th>person_home_ownership</th>\n",
       "      <th>loan_amnt</th>\n",
       "      <th>loan_intent</th>\n",
       "      <th>loan_int_rate</th>\n",
       "      <th>loan_percent_income</th>\n",
       "      <th>cb_person_cred_hist_length</th>\n",
       "      <th>credit_score</th>\n",
       "      <th>previous_loan_defaults_on_file</th>\n",
       "    </tr>\n",
       "  </thead>\n",
       "  <tbody>\n",
       "    <tr>\n",
       "      <th>25180</th>\n",
       "      <td>34</td>\n",
       "      <td>0</td>\n",
       "      <td>2</td>\n",
       "      <td>97265.0</td>\n",
       "      <td>11</td>\n",
       "      <td>Mortgage</td>\n",
       "      <td>15000</td>\n",
       "      <td>Personal</td>\n",
       "      <td>12.73</td>\n",
       "      <td>0.15</td>\n",
       "      <td>9</td>\n",
       "      <td>631</td>\n",
       "      <td>0</td>\n",
       "    </tr>\n",
       "    <tr>\n",
       "      <th>12555</th>\n",
       "      <td>25</td>\n",
       "      <td>1</td>\n",
       "      <td>0</td>\n",
       "      <td>67104.0</td>\n",
       "      <td>3</td>\n",
       "      <td>Rent</td>\n",
       "      <td>12000</td>\n",
       "      <td>Venture</td>\n",
       "      <td>11.86</td>\n",
       "      <td>0.16</td>\n",
       "      <td>4</td>\n",
       "      <td>659</td>\n",
       "      <td>1</td>\n",
       "    </tr>\n",
       "    <tr>\n",
       "      <th>29153</th>\n",
       "      <td>41</td>\n",
       "      <td>0</td>\n",
       "      <td>3</td>\n",
       "      <td>322597.0</td>\n",
       "      <td>18</td>\n",
       "      <td>Mortgage</td>\n",
       "      <td>24000</td>\n",
       "      <td>Personal</td>\n",
       "      <td>10.37</td>\n",
       "      <td>0.07</td>\n",
       "      <td>11</td>\n",
       "      <td>683</td>\n",
       "      <td>1</td>\n",
       "    </tr>\n",
       "    <tr>\n",
       "      <th>23838</th>\n",
       "      <td>27</td>\n",
       "      <td>1</td>\n",
       "      <td>1</td>\n",
       "      <td>94232.0</td>\n",
       "      <td>4</td>\n",
       "      <td>Rent</td>\n",
       "      <td>9600</td>\n",
       "      <td>Education</td>\n",
       "      <td>17.14</td>\n",
       "      <td>0.10</td>\n",
       "      <td>7</td>\n",
       "      <td>641</td>\n",
       "      <td>0</td>\n",
       "    </tr>\n",
       "    <tr>\n",
       "      <th>35686</th>\n",
       "      <td>27</td>\n",
       "      <td>1</td>\n",
       "      <td>3</td>\n",
       "      <td>67104.0</td>\n",
       "      <td>7</td>\n",
       "      <td>Rent</td>\n",
       "      <td>7059</td>\n",
       "      <td>Home Improvement</td>\n",
       "      <td>12.97</td>\n",
       "      <td>0.08</td>\n",
       "      <td>3</td>\n",
       "      <td>706</td>\n",
       "      <td>1</td>\n",
       "    </tr>\n",
       "  </tbody>\n",
       "</table>\n",
       "</div>"
      ],
      "text/plain": [
       "       person_age  person_gender  person_education  person_income  \\\n",
       "25180          34              0                 2        97265.0   \n",
       "12555          25              1                 0        67104.0   \n",
       "29153          41              0                 3       322597.0   \n",
       "23838          27              1                 1        94232.0   \n",
       "35686          27              1                 3        67104.0   \n",
       "\n",
       "       person_emp_exp person_home_ownership  loan_amnt       loan_intent  \\\n",
       "25180              11              Mortgage      15000          Personal   \n",
       "12555               3                  Rent      12000           Venture   \n",
       "29153              18              Mortgage      24000          Personal   \n",
       "23838               4                  Rent       9600         Education   \n",
       "35686               7                  Rent       7059  Home Improvement   \n",
       "\n",
       "       loan_int_rate  loan_percent_income  cb_person_cred_hist_length  \\\n",
       "25180          12.73                 0.15                           9   \n",
       "12555          11.86                 0.16                           4   \n",
       "29153          10.37                 0.07                          11   \n",
       "23838          17.14                 0.10                           7   \n",
       "35686          12.97                 0.08                           3   \n",
       "\n",
       "       credit_score  previous_loan_defaults_on_file  \n",
       "25180           631                               0  \n",
       "12555           659                               1  \n",
       "29153           683                               1  \n",
       "23838           641                               0  \n",
       "35686           706                               1  "
      ]
     },
     "execution_count": 24,
     "metadata": {},
     "output_type": "execute_result"
    }
   ],
   "source": [
    "x_train.head()"
   ]
  },
  {
   "cell_type": "markdown",
   "id": "18eab951",
   "metadata": {},
   "source": [
    "- Hasilnya sudah benar"
   ]
  },
  {
   "cell_type": "markdown",
   "id": "3e0dd179",
   "metadata": {},
   "source": [
    "#### One Hot Encoding"
   ]
  },
  {
   "cell_type": "markdown",
   "id": "9fe079bf",
   "metadata": {},
   "source": [
    "##### Person Home Ownership"
   ]
  },
  {
   "cell_type": "code",
   "execution_count": 25,
   "id": "81dd7c70",
   "metadata": {},
   "outputs": [],
   "source": [
    "person_home_ownership_encoder= OneHotEncoder()\n",
    "\n",
    "person_home_ownership_train= pd.DataFrame(person_home_ownership_encoder.fit_transform(x_train[['person_home_ownership']]).toarray(), \n",
    "                             columns= person_home_ownership_encoder.get_feature_names_out())\n",
    "\n",
    "person_home_ownership_test= pd.DataFrame(person_home_ownership_encoder.transform(x_test[['person_home_ownership']]).toarray(), \n",
    "                            columns= person_home_ownership_encoder.get_feature_names_out())"
   ]
  },
  {
   "cell_type": "markdown",
   "id": "d3504fb5",
   "metadata": {},
   "source": [
    "- Kolom person_home_ownership tidak memiliki urutan. Tidak selamanya orang yang Mortage/ sewa lebih baik daripada orang yang punya rumah. Sehingga, saya pakai one hot encoding "
   ]
  },
  {
   "cell_type": "code",
   "execution_count": 26,
   "id": "7925fac6",
   "metadata": {},
   "outputs": [
    {
     "data": {
      "text/plain": [
       "array(['person_home_ownership_Mortgage', 'person_home_ownership_Other',\n",
       "       'person_home_ownership_Own', 'person_home_ownership_Rent'],\n",
       "      dtype=object)"
      ]
     },
     "execution_count": 26,
     "metadata": {},
     "output_type": "execute_result"
    }
   ],
   "source": [
    "person_home_ownership_encoder.get_feature_names_out()"
   ]
  },
  {
   "cell_type": "markdown",
   "id": "c84f10bb",
   "metadata": {},
   "source": [
    "- Nama kolom yang dihasilkan oleh one hot sudah benar"
   ]
  },
  {
   "cell_type": "code",
   "execution_count": 879,
   "id": "a59325b1",
   "metadata": {},
   "outputs": [],
   "source": [
    "pickle.dump(person_home_ownership_encoder, open(\"person_home_ownership_encode.pkl\", \"wb\"))"
   ]
  },
  {
   "cell_type": "markdown",
   "id": "5330cef1",
   "metadata": {},
   "source": [
    "- Semua encoder disimpan dalam format pickle agar dapat dipakai lagi saat proses pembuatan kode inferencing tanpa harus encoding manual lagi"
   ]
  },
  {
   "cell_type": "markdown",
   "id": "796ef16a",
   "metadata": {},
   "source": [
    "##### Loan Intent"
   ]
  },
  {
   "cell_type": "code",
   "execution_count": 27,
   "id": "d96b9943",
   "metadata": {},
   "outputs": [],
   "source": [
    "loan_intent_encoder= OneHotEncoder()\n",
    "\n",
    "loan_intent_train= pd.DataFrame(loan_intent_encoder.fit_transform(x_train[['loan_intent']]).toarray(), \n",
    "                             columns= loan_intent_encoder.get_feature_names_out())\n",
    "\n",
    "loan_intent_test= pd.DataFrame(loan_intent_encoder.transform(x_test[['loan_intent']]).toarray(), \n",
    "                            columns= loan_intent_encoder.get_feature_names_out())"
   ]
  },
  {
   "cell_type": "markdown",
   "id": "e4ed8fa3",
   "metadata": {},
   "source": [
    "- loan_intent juga tidak memiliki urutan value. Tujuan peminjaman tidak memiliki urutan, sehingga saya memakai one hot encoding"
   ]
  },
  {
   "cell_type": "code",
   "execution_count": 28,
   "id": "2b99f9df",
   "metadata": {},
   "outputs": [
    {
     "data": {
      "text/plain": [
       "array(['loan_intent_Debt Consolidation', 'loan_intent_Education',\n",
       "       'loan_intent_Home Improvement', 'loan_intent_Medical',\n",
       "       'loan_intent_Personal', 'loan_intent_Venture'], dtype=object)"
      ]
     },
     "execution_count": 28,
     "metadata": {},
     "output_type": "execute_result"
    }
   ],
   "source": [
    "loan_intent_encoder.get_feature_names_out()"
   ]
  },
  {
   "cell_type": "markdown",
   "id": "37abd77b",
   "metadata": {},
   "source": [
    "- Nama kolom yang dihasilkan oleh one hot sudah benar"
   ]
  },
  {
   "cell_type": "code",
   "execution_count": 882,
   "id": "45b4da84",
   "metadata": {},
   "outputs": [],
   "source": [
    "pickle.dump(loan_intent_encoder, open(\"loan_intent_encode.pkl\", \"wb\"))"
   ]
  },
  {
   "cell_type": "markdown",
   "id": "9507b8e4",
   "metadata": {},
   "source": [
    "- Semua encoder disimpan dalam format pickle agar dapat dipakai lagi saat proses pembuatan kode inferencing tanpa harus encoding manual lagi"
   ]
  },
  {
   "cell_type": "markdown",
   "id": "f44d1b43",
   "metadata": {},
   "source": [
    "##### Merge Column and Remove Column"
   ]
  },
  {
   "cell_type": "code",
   "execution_count": 29,
   "id": "863c9c08",
   "metadata": {},
   "outputs": [],
   "source": [
    "x_train= x_train.reset_index()\n",
    "x_test= x_test.reset_index()"
   ]
  },
  {
   "cell_type": "markdown",
   "id": "c94a5e87",
   "metadata": {},
   "source": [
    "- Perlu di reset index untuk mencegah ketidaksesuaian saat menggabungkan hasil encoding ke data asli"
   ]
  },
  {
   "cell_type": "code",
   "execution_count": 30,
   "id": "0bb5519d",
   "metadata": {},
   "outputs": [],
   "source": [
    "x_train= pd.concat([x_train, person_home_ownership_train, loan_intent_train], axis=1)\n",
    "x_test= pd.concat([x_test, person_home_ownership_test, loan_intent_test], axis=1)"
   ]
  },
  {
   "cell_type": "markdown",
   "id": "1523943c",
   "metadata": {},
   "source": [
    "- Menggabungkan kembali data asli dengan data hasil encoding "
   ]
  },
  {
   "cell_type": "code",
   "execution_count": 31,
   "id": "7aed6daa",
   "metadata": {},
   "outputs": [],
   "source": [
    "x_train= x_train.drop(['index', 'person_home_ownership', 'loan_intent'], axis= 1)\n",
    "x_test= x_test.drop(['index', 'person_home_ownership', 'loan_intent'], axis= 1)"
   ]
  },
  {
   "cell_type": "markdown",
   "id": "1ba32c17",
   "metadata": {},
   "source": [
    "- Membuang kolom index saat reset_index() dan kolom person_home_ownership serta loan_intent yang merupakan kolom asli yang mau di encoding tadi"
   ]
  },
  {
   "cell_type": "markdown",
   "id": "1f1e1b25",
   "metadata": {},
   "source": [
    "##### Re-check"
   ]
  },
  {
   "cell_type": "code",
   "execution_count": 32,
   "id": "af943a11",
   "metadata": {},
   "outputs": [
    {
     "data": {
      "text/html": [
       "<div>\n",
       "<style scoped>\n",
       "    .dataframe tbody tr th:only-of-type {\n",
       "        vertical-align: middle;\n",
       "    }\n",
       "\n",
       "    .dataframe tbody tr th {\n",
       "        vertical-align: top;\n",
       "    }\n",
       "\n",
       "    .dataframe thead th {\n",
       "        text-align: right;\n",
       "    }\n",
       "</style>\n",
       "<table border=\"1\" class=\"dataframe\">\n",
       "  <thead>\n",
       "    <tr style=\"text-align: right;\">\n",
       "      <th></th>\n",
       "      <th>person_age</th>\n",
       "      <th>person_gender</th>\n",
       "      <th>person_education</th>\n",
       "      <th>person_income</th>\n",
       "      <th>person_emp_exp</th>\n",
       "      <th>loan_amnt</th>\n",
       "      <th>loan_int_rate</th>\n",
       "      <th>loan_percent_income</th>\n",
       "      <th>cb_person_cred_hist_length</th>\n",
       "      <th>credit_score</th>\n",
       "      <th>...</th>\n",
       "      <th>person_home_ownership_Mortgage</th>\n",
       "      <th>person_home_ownership_Other</th>\n",
       "      <th>person_home_ownership_Own</th>\n",
       "      <th>person_home_ownership_Rent</th>\n",
       "      <th>loan_intent_Debt Consolidation</th>\n",
       "      <th>loan_intent_Education</th>\n",
       "      <th>loan_intent_Home Improvement</th>\n",
       "      <th>loan_intent_Medical</th>\n",
       "      <th>loan_intent_Personal</th>\n",
       "      <th>loan_intent_Venture</th>\n",
       "    </tr>\n",
       "  </thead>\n",
       "  <tbody>\n",
       "    <tr>\n",
       "      <th>0</th>\n",
       "      <td>34</td>\n",
       "      <td>0</td>\n",
       "      <td>2</td>\n",
       "      <td>97265.0</td>\n",
       "      <td>11</td>\n",
       "      <td>15000</td>\n",
       "      <td>12.73</td>\n",
       "      <td>0.15</td>\n",
       "      <td>9</td>\n",
       "      <td>631</td>\n",
       "      <td>...</td>\n",
       "      <td>1.0</td>\n",
       "      <td>0.0</td>\n",
       "      <td>0.0</td>\n",
       "      <td>0.0</td>\n",
       "      <td>0.0</td>\n",
       "      <td>0.0</td>\n",
       "      <td>0.0</td>\n",
       "      <td>0.0</td>\n",
       "      <td>1.0</td>\n",
       "      <td>0.0</td>\n",
       "    </tr>\n",
       "    <tr>\n",
       "      <th>1</th>\n",
       "      <td>25</td>\n",
       "      <td>1</td>\n",
       "      <td>0</td>\n",
       "      <td>67104.0</td>\n",
       "      <td>3</td>\n",
       "      <td>12000</td>\n",
       "      <td>11.86</td>\n",
       "      <td>0.16</td>\n",
       "      <td>4</td>\n",
       "      <td>659</td>\n",
       "      <td>...</td>\n",
       "      <td>0.0</td>\n",
       "      <td>0.0</td>\n",
       "      <td>0.0</td>\n",
       "      <td>1.0</td>\n",
       "      <td>0.0</td>\n",
       "      <td>0.0</td>\n",
       "      <td>0.0</td>\n",
       "      <td>0.0</td>\n",
       "      <td>0.0</td>\n",
       "      <td>1.0</td>\n",
       "    </tr>\n",
       "    <tr>\n",
       "      <th>2</th>\n",
       "      <td>41</td>\n",
       "      <td>0</td>\n",
       "      <td>3</td>\n",
       "      <td>322597.0</td>\n",
       "      <td>18</td>\n",
       "      <td>24000</td>\n",
       "      <td>10.37</td>\n",
       "      <td>0.07</td>\n",
       "      <td>11</td>\n",
       "      <td>683</td>\n",
       "      <td>...</td>\n",
       "      <td>1.0</td>\n",
       "      <td>0.0</td>\n",
       "      <td>0.0</td>\n",
       "      <td>0.0</td>\n",
       "      <td>0.0</td>\n",
       "      <td>0.0</td>\n",
       "      <td>0.0</td>\n",
       "      <td>0.0</td>\n",
       "      <td>1.0</td>\n",
       "      <td>0.0</td>\n",
       "    </tr>\n",
       "    <tr>\n",
       "      <th>3</th>\n",
       "      <td>27</td>\n",
       "      <td>1</td>\n",
       "      <td>1</td>\n",
       "      <td>94232.0</td>\n",
       "      <td>4</td>\n",
       "      <td>9600</td>\n",
       "      <td>17.14</td>\n",
       "      <td>0.10</td>\n",
       "      <td>7</td>\n",
       "      <td>641</td>\n",
       "      <td>...</td>\n",
       "      <td>0.0</td>\n",
       "      <td>0.0</td>\n",
       "      <td>0.0</td>\n",
       "      <td>1.0</td>\n",
       "      <td>0.0</td>\n",
       "      <td>1.0</td>\n",
       "      <td>0.0</td>\n",
       "      <td>0.0</td>\n",
       "      <td>0.0</td>\n",
       "      <td>0.0</td>\n",
       "    </tr>\n",
       "    <tr>\n",
       "      <th>4</th>\n",
       "      <td>27</td>\n",
       "      <td>1</td>\n",
       "      <td>3</td>\n",
       "      <td>67104.0</td>\n",
       "      <td>7</td>\n",
       "      <td>7059</td>\n",
       "      <td>12.97</td>\n",
       "      <td>0.08</td>\n",
       "      <td>3</td>\n",
       "      <td>706</td>\n",
       "      <td>...</td>\n",
       "      <td>0.0</td>\n",
       "      <td>0.0</td>\n",
       "      <td>0.0</td>\n",
       "      <td>1.0</td>\n",
       "      <td>0.0</td>\n",
       "      <td>0.0</td>\n",
       "      <td>1.0</td>\n",
       "      <td>0.0</td>\n",
       "      <td>0.0</td>\n",
       "      <td>0.0</td>\n",
       "    </tr>\n",
       "  </tbody>\n",
       "</table>\n",
       "<p>5 rows × 21 columns</p>\n",
       "</div>"
      ],
      "text/plain": [
       "   person_age  person_gender  person_education  person_income  person_emp_exp  \\\n",
       "0          34              0                 2        97265.0              11   \n",
       "1          25              1                 0        67104.0               3   \n",
       "2          41              0                 3       322597.0              18   \n",
       "3          27              1                 1        94232.0               4   \n",
       "4          27              1                 3        67104.0               7   \n",
       "\n",
       "   loan_amnt  loan_int_rate  loan_percent_income  cb_person_cred_hist_length  \\\n",
       "0      15000          12.73                 0.15                           9   \n",
       "1      12000          11.86                 0.16                           4   \n",
       "2      24000          10.37                 0.07                          11   \n",
       "3       9600          17.14                 0.10                           7   \n",
       "4       7059          12.97                 0.08                           3   \n",
       "\n",
       "   credit_score  ...  person_home_ownership_Mortgage  \\\n",
       "0           631  ...                             1.0   \n",
       "1           659  ...                             0.0   \n",
       "2           683  ...                             1.0   \n",
       "3           641  ...                             0.0   \n",
       "4           706  ...                             0.0   \n",
       "\n",
       "   person_home_ownership_Other  person_home_ownership_Own  \\\n",
       "0                          0.0                        0.0   \n",
       "1                          0.0                        0.0   \n",
       "2                          0.0                        0.0   \n",
       "3                          0.0                        0.0   \n",
       "4                          0.0                        0.0   \n",
       "\n",
       "   person_home_ownership_Rent  loan_intent_Debt Consolidation  \\\n",
       "0                         0.0                             0.0   \n",
       "1                         1.0                             0.0   \n",
       "2                         0.0                             0.0   \n",
       "3                         1.0                             0.0   \n",
       "4                         1.0                             0.0   \n",
       "\n",
       "   loan_intent_Education  loan_intent_Home Improvement  loan_intent_Medical  \\\n",
       "0                    0.0                           0.0                  0.0   \n",
       "1                    0.0                           0.0                  0.0   \n",
       "2                    0.0                           0.0                  0.0   \n",
       "3                    1.0                           0.0                  0.0   \n",
       "4                    0.0                           1.0                  0.0   \n",
       "\n",
       "   loan_intent_Personal  loan_intent_Venture  \n",
       "0                   1.0                  0.0  \n",
       "1                   0.0                  1.0  \n",
       "2                   1.0                  0.0  \n",
       "3                   0.0                  0.0  \n",
       "4                   0.0                  0.0  \n",
       "\n",
       "[5 rows x 21 columns]"
      ]
     },
     "execution_count": 32,
     "metadata": {},
     "output_type": "execute_result"
    }
   ],
   "source": [
    "x_train.head()"
   ]
  },
  {
   "cell_type": "markdown",
   "id": "e503a499",
   "metadata": {},
   "source": [
    "### Scaling"
   ]
  },
  {
   "cell_type": "markdown",
   "id": "dc16ed17",
   "metadata": {},
   "source": [
    "#### Check Distribution"
   ]
  },
  {
   "cell_type": "code",
   "execution_count": 888,
   "id": "1b3ef4e7",
   "metadata": {},
   "outputs": [
    {
     "data": {
      "image/png": "[encoded data removed]",
      "text/plain": [
       "<Figure size 1100x400 with 2 Axes>"
      ]
     },
     "metadata": {},
     "output_type": "display_data"
    },
    {
     "data": {
      "image/png": "[encoded data removed]",
      "text/plain": [
       "<Figure size 1100x400 with 2 Axes>"
      ]
     },
     "metadata": {},
     "output_type": "display_data"
    },
    {
     "data": {
      "image/png": "[encoded data removed]",
      "text/plain": [
       "<Figure size 1100x400 with 2 Axes>"
      ]
     },
     "metadata": {},
     "output_type": "display_data"
    },
    {
     "data": {
      "image/png": "[encoded data removed]",
      "text/plain": [
       "<Figure size 1100x400 with 2 Axes>"
      ]
     },
     "metadata": {},
     "output_type": "display_data"
    },
    {
     "data": {
      "image/png": "[encoded data removed]",
      "text/plain": [
       "<Figure size 1100x400 with 2 Axes>"
      ]
     },
     "metadata": {},
     "output_type": "display_data"
    },
    {
     "data": {
      "image/png": "[encoded data removed]",
      "text/plain": [
       "<Figure size 1100x400 with 2 Axes>"
      ]
     },
     "metadata": {},
     "output_type": "display_data"
    },
    {
     "data": {
      "image/png": "[encoded data removed]",
      "text/plain": [
       "<Figure size 1100x400 with 2 Axes>"
      ]
     },
     "metadata": {},
     "output_type": "display_data"
    },
    {
     "data": {
      "image/png": "[encoded data removed]",
      "text/plain": [
       "<Figure size 1100x400 with 2 Axes>"
      ]
     },
     "metadata": {},
     "output_type": "display_data"
    }
   ],
   "source": [
    "def dist_plot(df, numerical_cols):\n",
    "  for i in numerical_cols:\n",
    "    plt.figure(figsize=(11,4))\n",
    "\n",
    "    plt.subplot(1,2,1)\n",
    "    sns.histplot(df[i], bins=30)\n",
    "    plt.title(f\"Histogram of {i}\")\n",
    "\n",
    "    plt.subplot(1,2,2)\n",
    "    sns.boxplot(df[i])\n",
    "    plt.title(f\"Boxplot of {i}\")\n",
    "\n",
    "    plt.show()\n",
    "dist_plot(x_train[numerical], numerical)"
   ]
  },
  {
   "cell_type": "markdown",
   "id": "76c1159f",
   "metadata": {},
   "source": [
    "- Semua distribusi data tidak normal dan memiliki outliers"
   ]
  },
  {
   "cell_type": "code",
   "execution_count": null,
   "id": "771fcf2c",
   "metadata": {},
   "outputs": [
    {
     "data": {
      "text/html": [
       "<div>\n",
       "<style scoped>\n",
       "    .dataframe tbody tr th:only-of-type {\n",
       "        vertical-align: middle;\n",
       "    }\n",
       "\n",
       "    .dataframe tbody tr th {\n",
       "        vertical-align: top;\n",
       "    }\n",
       "\n",
       "    .dataframe thead th {\n",
       "        text-align: right;\n",
       "    }\n",
       "</style>\n",
       "<table border=\"1\" class=\"dataframe\">\n",
       "  <thead>\n",
       "    <tr style=\"text-align: right;\">\n",
       "      <th></th>\n",
       "      <th>person_age</th>\n",
       "      <th>person_gender</th>\n",
       "      <th>person_education</th>\n",
       "      <th>person_income</th>\n",
       "      <th>person_emp_exp</th>\n",
       "      <th>person_home_ownership</th>\n",
       "      <th>loan_amnt</th>\n",
       "      <th>loan_intent</th>\n",
       "      <th>loan_int_rate</th>\n",
       "      <th>loan_percent_income</th>\n",
       "      <th>cb_person_cred_hist_length</th>\n",
       "      <th>credit_score</th>\n",
       "      <th>previous_loan_defaults_on_file</th>\n",
       "      <th>loan_status</th>\n",
       "    </tr>\n",
       "  </thead>\n",
       "  <tbody>\n",
       "    <tr>\n",
       "      <th>81</th>\n",
       "      <td>144</td>\n",
       "      <td>male</td>\n",
       "      <td>Bachelor</td>\n",
       "      <td>300616.0</td>\n",
       "      <td>125</td>\n",
       "      <td>RENT</td>\n",
       "      <td>4800</td>\n",
       "      <td>VENTURE</td>\n",
       "      <td>13.57</td>\n",
       "      <td>0.02</td>\n",
       "      <td>3</td>\n",
       "      <td>789</td>\n",
       "      <td>No</td>\n",
       "      <td>0</td>\n",
       "    </tr>\n",
       "    <tr>\n",
       "      <th>183</th>\n",
       "      <td>144</td>\n",
       "      <td>male</td>\n",
       "      <td>Associate</td>\n",
       "      <td>241424.0</td>\n",
       "      <td>121</td>\n",
       "      <td>MORTGAGE</td>\n",
       "      <td>6000</td>\n",
       "      <td>EDUCATION</td>\n",
       "      <td>11.86</td>\n",
       "      <td>0.02</td>\n",
       "      <td>2</td>\n",
       "      <td>807</td>\n",
       "      <td>No</td>\n",
       "      <td>0</td>\n",
       "    </tr>\n",
       "    <tr>\n",
       "      <th>575</th>\n",
       "      <td>123</td>\n",
       "      <td>female</td>\n",
       "      <td>High School</td>\n",
       "      <td>97140.0</td>\n",
       "      <td>101</td>\n",
       "      <td>RENT</td>\n",
       "      <td>20400</td>\n",
       "      <td>EDUCATION</td>\n",
       "      <td>10.25</td>\n",
       "      <td>0.21</td>\n",
       "      <td>3</td>\n",
       "      <td>805</td>\n",
       "      <td>Yes</td>\n",
       "      <td>0</td>\n",
       "    </tr>\n",
       "    <tr>\n",
       "      <th>747</th>\n",
       "      <td>123</td>\n",
       "      <td>male</td>\n",
       "      <td>Bachelor</td>\n",
       "      <td>94723.0</td>\n",
       "      <td>100</td>\n",
       "      <td>RENT</td>\n",
       "      <td>20000</td>\n",
       "      <td>VENTURE</td>\n",
       "      <td>11.01</td>\n",
       "      <td>0.21</td>\n",
       "      <td>4</td>\n",
       "      <td>714</td>\n",
       "      <td>Yes</td>\n",
       "      <td>0</td>\n",
       "    </tr>\n",
       "    <tr>\n",
       "      <th>32297</th>\n",
       "      <td>144</td>\n",
       "      <td>female</td>\n",
       "      <td>Associate</td>\n",
       "      <td>NaN</td>\n",
       "      <td>124</td>\n",
       "      <td>MORTGAGE</td>\n",
       "      <td>5000</td>\n",
       "      <td>PERSONAL</td>\n",
       "      <td>12.73</td>\n",
       "      <td>0.00</td>\n",
       "      <td>25</td>\n",
       "      <td>850</td>\n",
       "      <td>No</td>\n",
       "      <td>0</td>\n",
       "    </tr>\n",
       "    <tr>\n",
       "      <th>32416</th>\n",
       "      <td>94</td>\n",
       "      <td>male</td>\n",
       "      <td>High School</td>\n",
       "      <td>29738.0</td>\n",
       "      <td>76</td>\n",
       "      <td>RENT</td>\n",
       "      <td>6500</td>\n",
       "      <td>MEDICAL</td>\n",
       "      <td>11.01</td>\n",
       "      <td>0.22</td>\n",
       "      <td>27</td>\n",
       "      <td>773</td>\n",
       "      <td>No</td>\n",
       "      <td>0</td>\n",
       "    </tr>\n",
       "    <tr>\n",
       "      <th>32422</th>\n",
       "      <td>80</td>\n",
       "      <td>male</td>\n",
       "      <td>High School</td>\n",
       "      <td>77894.0</td>\n",
       "      <td>62</td>\n",
       "      <td>RENT</td>\n",
       "      <td>6800</td>\n",
       "      <td>MEDICAL</td>\n",
       "      <td>11.71</td>\n",
       "      <td>0.09</td>\n",
       "      <td>25</td>\n",
       "      <td>673</td>\n",
       "      <td>No</td>\n",
       "      <td>0</td>\n",
       "    </tr>\n",
       "    <tr>\n",
       "      <th>32506</th>\n",
       "      <td>84</td>\n",
       "      <td>male</td>\n",
       "      <td>High School</td>\n",
       "      <td>114705.0</td>\n",
       "      <td>61</td>\n",
       "      <td>MORTGAGE</td>\n",
       "      <td>10000</td>\n",
       "      <td>PERSONAL</td>\n",
       "      <td>7.51</td>\n",
       "      <td>0.09</td>\n",
       "      <td>24</td>\n",
       "      <td>784</td>\n",
       "      <td>Yes</td>\n",
       "      <td>0</td>\n",
       "    </tr>\n",
       "    <tr>\n",
       "      <th>37930</th>\n",
       "      <td>116</td>\n",
       "      <td>male</td>\n",
       "      <td>Bachelor</td>\n",
       "      <td>5545545.0</td>\n",
       "      <td>93</td>\n",
       "      <td>MORTGAGE</td>\n",
       "      <td>3823</td>\n",
       "      <td>VENTURE</td>\n",
       "      <td>12.15</td>\n",
       "      <td>0.00</td>\n",
       "      <td>24</td>\n",
       "      <td>708</td>\n",
       "      <td>No</td>\n",
       "      <td>0</td>\n",
       "    </tr>\n",
       "    <tr>\n",
       "      <th>38113</th>\n",
       "      <td>109</td>\n",
       "      <td>male</td>\n",
       "      <td>High School</td>\n",
       "      <td>5556399.0</td>\n",
       "      <td>85</td>\n",
       "      <td>MORTGAGE</td>\n",
       "      <td>6195</td>\n",
       "      <td>VENTURE</td>\n",
       "      <td>12.58</td>\n",
       "      <td>0.00</td>\n",
       "      <td>22</td>\n",
       "      <td>792</td>\n",
       "      <td>No</td>\n",
       "      <td>0</td>\n",
       "    </tr>\n",
       "  </tbody>\n",
       "</table>\n",
       "</div>"
      ],
      "text/plain": [
       "       person_age person_gender person_education  person_income  \\\n",
       "81            144          male         Bachelor       300616.0   \n",
       "183           144          male        Associate       241424.0   \n",
       "575           123        female      High School        97140.0   \n",
       "747           123          male         Bachelor        94723.0   \n",
       "32297         144        female        Associate            NaN   \n",
       "32416          94          male      High School        29738.0   \n",
       "32422          80          male      High School        77894.0   \n",
       "32506          84          male      High School       114705.0   \n",
       "37930         116          male         Bachelor      5545545.0   \n",
       "38113         109          male      High School      5556399.0   \n",
       "\n",
       "       person_emp_exp person_home_ownership  loan_amnt loan_intent  \\\n",
       "81                125                  RENT       4800     VENTURE   \n",
       "183               121              MORTGAGE       6000   EDUCATION   \n",
       "575               101                  RENT      20400   EDUCATION   \n",
       "747               100                  RENT      20000     VENTURE   \n",
       "32297             124              MORTGAGE       5000    PERSONAL   \n",
       "32416              76                  RENT       6500     MEDICAL   \n",
       "32422              62                  RENT       6800     MEDICAL   \n",
       "32506              61              MORTGAGE      10000    PERSONAL   \n",
       "37930              93              MORTGAGE       3823     VENTURE   \n",
       "38113              85              MORTGAGE       6195     VENTURE   \n",
       "\n",
       "       loan_int_rate  loan_percent_income  cb_person_cred_hist_length  \\\n",
       "81             13.57                 0.02                           3   \n",
       "183            11.86                 0.02                           2   \n",
       "575            10.25                 0.21                           3   \n",
       "747            11.01                 0.21                           4   \n",
       "32297          12.73                 0.00                          25   \n",
       "32416          11.01                 0.22                          27   \n",
       "32422          11.71                 0.09                          25   \n",
       "32506           7.51                 0.09                          24   \n",
       "37930          12.15                 0.00                          24   \n",
       "38113          12.58                 0.00                          22   \n",
       "\n",
       "       credit_score previous_loan_defaults_on_file  loan_status  \n",
       "81              789                             No            0  \n",
       "183             807                             No            0  \n",
       "575             805                            Yes            0  \n",
       "747             714                            Yes            0  \n",
       "32297           850                             No            0  \n",
       "32416           773                             No            0  \n",
       "32422           673                             No            0  \n",
       "32506           784                            Yes            0  \n",
       "37930           708                             No            0  \n",
       "38113           792                             No            0  "
      ]
     },
     "execution_count": 38,
     "metadata": {},
     "output_type": "execute_result"
    }
   ],
   "source": [
    "df[df['person_age'] >= 80]"
   ]
  },
  {
   "cell_type": "markdown",
   "id": "81a6eb98",
   "metadata": {},
   "source": [
    "- Saya check sample data outliersnya pada df karena mau melihat apakah loan status diterima apa tidak\n",
    "- Terlihat bahwa outliers tersebut menunjukan bahwa mereka sudah bekerja dari usia sekitar 20 hingga masa tua nya tanpa henti\n",
    "- Walaupun usia orang memang sangat langka bisa mencapai diatas 100 tahun, namun usia tersebut masih dapat dijumpai dan masih masuk akal\n",
    "- sehingga saya tidak akan menghapus atau mengubah person_age dan person_emp_ex karena data tersebut masih merepresentasikan kondisi nyata yang mungkin berguna dalam analisis model dalam kelayakan pinjaman"
   ]
  },
  {
   "cell_type": "markdown",
   "id": "83d50cd8",
   "metadata": {},
   "source": [
    "#### Scale All Column"
   ]
  },
  {
   "cell_type": "code",
   "execution_count": 889,
   "id": "b40bbf78",
   "metadata": {},
   "outputs": [],
   "source": [
    "for col in numerical:\n",
    "  robust_scaler= RobustScaler()\n",
    "  \n",
    "  x_train[col]= robust_scaler.fit_transform(x_train[[col]])\n",
    "  x_test[col]= robust_scaler.transform(x_test[[col]])\n",
    "    \n",
    "  pickle.dump(robust_scaler, open(f\"{col}_scaler.pkl\", \"wb\"))"
   ]
  },
  {
   "cell_type": "markdown",
   "id": "e3797bc5",
   "metadata": {},
   "source": [
    "- Karena data numerik tidak berdistribusi normal, maka saya memakai robust scaler untuk menormalisasi data karena robust scaler lebih tahan terhadap outliers dibandingkan scaler lain. Sehingga, saya bisa menjaga informasi penting dari data ekstrem tanpa membuat model terlalu terpengaruh oleh nilai nilai yang tidak umum\n",
    "- Semua scaler disimpan dalam format pickle agar dapat dipakai lagi saat proses pembuatan kode inferencing tanpa harus scaling manual lagi"
   ]
  },
  {
   "cell_type": "markdown",
   "id": "1d0716b6",
   "metadata": {},
   "source": [
    "## Train Model"
   ]
  },
  {
   "cell_type": "markdown",
   "id": "f700d3b7",
   "metadata": {},
   "source": [
    "### Random Forest"
   ]
  },
  {
   "cell_type": "code",
   "execution_count": null,
   "id": "b1bdf31a",
   "metadata": {},
   "outputs": [
    {
     "data": {
      "text/html": [
       "<style>#sk-container-id-23 {\n",
       "  /* Definition of color scheme common for light and dark mode */\n",
       "  --sklearn-color-text: #000;\n",
       "  --sklearn-color-text-muted: #666;\n",
       "  --sklearn-color-line: gray;\n",
       "  /* Definition of color scheme for unfitted estimators */\n",
       "  --sklearn-color-unfitted-level-0: #fff5e6;\n",
       "  --sklearn-color-unfitted-level-1: #f6e4d2;\n",
       "  --sklearn-color-unfitted-level-2: #ffe0b3;\n",
       "  --sklearn-color-unfitted-level-3: chocolate;\n",
       "  /* Definition of color scheme for fitted estimators */\n",
       "  --sklearn-color-fitted-level-0: #f0f8ff;\n",
       "  --sklearn-color-fitted-level-1: #d4ebff;\n",
       "  --sklearn-color-fitted-level-2: #b3dbfd;\n",
       "  --sklearn-color-fitted-level-3: cornflowerblue;\n",
       "\n",
       "  /* Specific color for light theme */\n",
       "  --sklearn-color-text-on-default-background: var(--sg-text-color, var(--theme-code-foreground, var(--jp-content-font-color1, black)));\n",
       "  --sklearn-color-background: var(--sg-background-color, var(--theme-background, var(--jp-layout-color0, white)));\n",
       "  --sklearn-color-border-box: var(--sg-text-color, var(--theme-code-foreground, var(--jp-content-font-color1, black)));\n",
       "  --sklearn-color-icon: #696969;\n",
       "\n",
       "  @media (prefers-color-scheme: dark) {\n",
       "    /* Redefinition of color scheme for dark theme */\n",
       "    --sklearn-color-text-on-default-background: var(--sg-text-color, var(--theme-code-foreground, var(--jp-content-font-color1, white)));\n",
       "    --sklearn-color-background: var(--sg-background-color, var(--theme-background, var(--jp-layout-color0, #111)));\n",
       "    --sklearn-color-border-box: var(--sg-text-color, var(--theme-code-foreground, var(--jp-content-font-color1, white)));\n",
       "    --sklearn-color-icon: #878787;\n",
       "  }\n",
       "}\n",
       "\n",
       "#sk-container-id-23 {\n",
       "  color: var(--sklearn-color-text);\n",
       "}\n",
       "\n",
       "#sk-container-id-23 pre {\n",
       "  padding: 0;\n",
       "}\n",
       "\n",
       "#sk-container-id-23 input.sk-hidden--visually {\n",
       "  border: 0;\n",
       "  clip: rect(1px 1px 1px 1px);\n",
       "  clip: rect(1px, 1px, 1px, 1px);\n",
       "  height: 1px;\n",
       "  margin: -1px;\n",
       "  overflow: hidden;\n",
       "  padding: 0;\n",
       "  position: absolute;\n",
       "  width: 1px;\n",
       "}\n",
       "\n",
       "#sk-container-id-23 div.sk-dashed-wrapped {\n",
       "  border: 1px dashed var(--sklearn-color-line);\n",
       "  margin: 0 0.4em 0.5em 0.4em;\n",
       "  box-sizing: border-box;\n",
       "  padding-bottom: 0.4em;\n",
       "  background-color: var(--sklearn-color-background);\n",
       "}\n",
       "\n",
       "#sk-container-id-23 div.sk-container {\n",
       "  /* jupyter's `normalize.less` sets `[hidden] { display: none; }`\n",
       "     but bootstrap.min.css set `[hidden] { display: none !important; }`\n",
       "     so we also need the `!important` here to be able to override the\n",
       "     default hidden behavior on the sphinx rendered scikit-learn.org.\n",
       "     See: https://github.com/scikit-learn/scikit-learn/issues/21755 */\n",
       "  display: inline-block !important;\n",
       "  position: relative;\n",
       "}\n",
       "\n",
       "#sk-container-id-23 div.sk-text-repr-fallback {\n",
       "  display: none;\n",
       "}\n",
       "\n",
       "div.sk-parallel-item,\n",
       "div.sk-serial,\n",
       "div.sk-item {\n",
       "  /* draw centered vertical line to link estimators */\n",
       "  background-image: linear-gradient(var(--sklearn-color-text-on-default-background), var(--sklearn-color-text-on-default-background));\n",
       "  background-size: 2px 100%;\n",
       "  background-repeat: no-repeat;\n",
       "  background-position: center center;\n",
       "}\n",
       "\n",
       "/* Parallel-specific style estimator block */\n",
       "\n",
       "#sk-container-id-23 div.sk-parallel-item::after {\n",
       "  content: \"\";\n",
       "  width: 100%;\n",
       "  border-bottom: 2px solid var(--sklearn-color-text-on-default-background);\n",
       "  flex-grow: 1;\n",
       "}\n",
       "\n",
       "#sk-container-id-23 div.sk-parallel {\n",
       "  display: flex;\n",
       "  align-items: stretch;\n",
       "  justify-content: center;\n",
       "  background-color: var(--sklearn-color-background);\n",
       "  position: relative;\n",
       "}\n",
       "\n",
       "#sk-container-id-23 div.sk-parallel-item {\n",
       "  display: flex;\n",
       "  flex-direction: column;\n",
       "}\n",
       "\n",
       "#sk-container-id-23 div.sk-parallel-item:first-child::after {\n",
       "  align-self: flex-end;\n",
       "  width: 50%;\n",
       "}\n",
       "\n",
       "#sk-container-id-23 div.sk-parallel-item:last-child::after {\n",
       "  align-self: flex-start;\n",
       "  width: 50%;\n",
       "}\n",
       "\n",
       "#sk-container-id-23 div.sk-parallel-item:only-child::after {\n",
       "  width: 0;\n",
       "}\n",
       "\n",
       "/* Serial-specific style estimator block */\n",
       "\n",
       "#sk-container-id-23 div.sk-serial {\n",
       "  display: flex;\n",
       "  flex-direction: column;\n",
       "  align-items: center;\n",
       "  background-color: var(--sklearn-color-background);\n",
       "  padding-right: 1em;\n",
       "  padding-left: 1em;\n",
       "}\n",
       "\n",
       "\n",
       "/* Toggleable style: style used for estimator/Pipeline/ColumnTransformer box that is\n",
       "clickable and can be expanded/collapsed.\n",
       "- Pipeline and ColumnTransformer use this feature and define the default style\n",
       "- Estimators will overwrite some part of the style using the `sk-estimator` class\n",
       "*/\n",
       "\n",
       "/* Pipeline and ColumnTransformer style (default) */\n",
       "\n",
       "#sk-container-id-23 div.sk-toggleable {\n",
       "  /* Default theme specific background. It is overwritten whether we have a\n",
       "  specific estimator or a Pipeline/ColumnTransformer */\n",
       "  background-color: var(--sklearn-color-background);\n",
       "}\n",
       "\n",
       "/* Toggleable label */\n",
       "#sk-container-id-23 label.sk-toggleable__label {\n",
       "  cursor: pointer;\n",
       "  display: flex;\n",
       "  width: 100%;\n",
       "  margin-bottom: 0;\n",
       "  padding: 0.5em;\n",
       "  box-sizing: border-box;\n",
       "  text-align: center;\n",
       "  align-items: start;\n",
       "  justify-content: space-between;\n",
       "  gap: 0.5em;\n",
       "}\n",
       "\n",
       "#sk-container-id-23 label.sk-toggleable__label .caption {\n",
       "  font-size: 0.6rem;\n",
       "  font-weight: lighter;\n",
       "  color: var(--sklearn-color-text-muted);\n",
       "}\n",
       "\n",
       "#sk-container-id-23 label.sk-toggleable__label-arrow:before {\n",
       "  /* Arrow on the left of the label */\n",
       "  content: \"▸\";\n",
       "  float: left;\n",
       "  margin-right: 0.25em;\n",
       "  color: var(--sklearn-color-icon);\n",
       "}\n",
       "\n",
       "#sk-container-id-23 label.sk-toggleable__label-arrow:hover:before {\n",
       "  color: var(--sklearn-color-text);\n",
       "}\n",
       "\n",
       "/* Toggleable content - dropdown */\n",
       "\n",
       "#sk-container-id-23 div.sk-toggleable__content {\n",
       "  max-height: 0;\n",
       "  max-width: 0;\n",
       "  overflow: hidden;\n",
       "  text-align: left;\n",
       "  /* unfitted */\n",
       "  background-color: var(--sklearn-color-unfitted-level-0);\n",
       "}\n",
       "\n",
       "#sk-container-id-23 div.sk-toggleable__content.fitted {\n",
       "  /* fitted */\n",
       "  background-color: var(--sklearn-color-fitted-level-0);\n",
       "}\n",
       "\n",
       "#sk-container-id-23 div.sk-toggleable__content pre {\n",
       "  margin: 0.2em;\n",
       "  border-radius: 0.25em;\n",
       "  color: var(--sklearn-color-text);\n",
       "  /* unfitted */\n",
       "  background-color: var(--sklearn-color-unfitted-level-0);\n",
       "}\n",
       "\n",
       "#sk-container-id-23 div.sk-toggleable__content.fitted pre {\n",
       "  /* unfitted */\n",
       "  background-color: var(--sklearn-color-fitted-level-0);\n",
       "}\n",
       "\n",
       "#sk-container-id-23 input.sk-toggleable__control:checked~div.sk-toggleable__content {\n",
       "  /* Expand drop-down */\n",
       "  max-height: 200px;\n",
       "  max-width: 100%;\n",
       "  overflow: auto;\n",
       "}\n",
       "\n",
       "#sk-container-id-23 input.sk-toggleable__control:checked~label.sk-toggleable__label-arrow:before {\n",
       "  content: \"▾\";\n",
       "}\n",
       "\n",
       "/* Pipeline/ColumnTransformer-specific style */\n",
       "\n",
       "#sk-container-id-23 div.sk-label input.sk-toggleable__control:checked~label.sk-toggleable__label {\n",
       "  color: var(--sklearn-color-text);\n",
       "  background-color: var(--sklearn-color-unfitted-level-2);\n",
       "}\n",
       "\n",
       "#sk-container-id-23 div.sk-label.fitted input.sk-toggleable__control:checked~label.sk-toggleable__label {\n",
       "  background-color: var(--sklearn-color-fitted-level-2);\n",
       "}\n",
       "\n",
       "/* Estimator-specific style */\n",
       "\n",
       "/* Colorize estimator box */\n",
       "#sk-container-id-23 div.sk-estimator input.sk-toggleable__control:checked~label.sk-toggleable__label {\n",
       "  /* unfitted */\n",
       "  background-color: var(--sklearn-color-unfitted-level-2);\n",
       "}\n",
       "\n",
       "#sk-container-id-23 div.sk-estimator.fitted input.sk-toggleable__control:checked~label.sk-toggleable__label {\n",
       "  /* fitted */\n",
       "  background-color: var(--sklearn-color-fitted-level-2);\n",
       "}\n",
       "\n",
       "#sk-container-id-23 div.sk-label label.sk-toggleable__label,\n",
       "#sk-container-id-23 div.sk-label label {\n",
       "  /* The background is the default theme color */\n",
       "  color: var(--sklearn-color-text-on-default-background);\n",
       "}\n",
       "\n",
       "/* On hover, darken the color of the background */\n",
       "#sk-container-id-23 div.sk-label:hover label.sk-toggleable__label {\n",
       "  color: var(--sklearn-color-text);\n",
       "  background-color: var(--sklearn-color-unfitted-level-2);\n",
       "}\n",
       "\n",
       "/* Label box, darken color on hover, fitted */\n",
       "#sk-container-id-23 div.sk-label.fitted:hover label.sk-toggleable__label.fitted {\n",
       "  color: var(--sklearn-color-text);\n",
       "  background-color: var(--sklearn-color-fitted-level-2);\n",
       "}\n",
       "\n",
       "/* Estimator label */\n",
       "\n",
       "#sk-container-id-23 div.sk-label label {\n",
       "  font-family: monospace;\n",
       "  font-weight: bold;\n",
       "  display: inline-block;\n",
       "  line-height: 1.2em;\n",
       "}\n",
       "\n",
       "#sk-container-id-23 div.sk-label-container {\n",
       "  text-align: center;\n",
       "}\n",
       "\n",
       "/* Estimator-specific */\n",
       "#sk-container-id-23 div.sk-estimator {\n",
       "  font-family: monospace;\n",
       "  border: 1px dotted var(--sklearn-color-border-box);\n",
       "  border-radius: 0.25em;\n",
       "  box-sizing: border-box;\n",
       "  margin-bottom: 0.5em;\n",
       "  /* unfitted */\n",
       "  background-color: var(--sklearn-color-unfitted-level-0);\n",
       "}\n",
       "\n",
       "#sk-container-id-23 div.sk-estimator.fitted {\n",
       "  /* fitted */\n",
       "  background-color: var(--sklearn-color-fitted-level-0);\n",
       "}\n",
       "\n",
       "/* on hover */\n",
       "#sk-container-id-23 div.sk-estimator:hover {\n",
       "  /* unfitted */\n",
       "  background-color: var(--sklearn-color-unfitted-level-2);\n",
       "}\n",
       "\n",
       "#sk-container-id-23 div.sk-estimator.fitted:hover {\n",
       "  /* fitted */\n",
       "  background-color: var(--sklearn-color-fitted-level-2);\n",
       "}\n",
       "\n",
       "/* Specification for estimator info (e.g. \"i\" and \"?\") */\n",
       "\n",
       "/* Common style for \"i\" and \"?\" */\n",
       "\n",
       ".sk-estimator-doc-link,\n",
       "a:link.sk-estimator-doc-link,\n",
       "a:visited.sk-estimator-doc-link {\n",
       "  float: right;\n",
       "  font-size: smaller;\n",
       "  line-height: 1em;\n",
       "  font-family: monospace;\n",
       "  background-color: var(--sklearn-color-background);\n",
       "  border-radius: 1em;\n",
       "  height: 1em;\n",
       "  width: 1em;\n",
       "  text-decoration: none !important;\n",
       "  margin-left: 0.5em;\n",
       "  text-align: center;\n",
       "  /* unfitted */\n",
       "  border: var(--sklearn-color-unfitted-level-1) 1pt solid;\n",
       "  color: var(--sklearn-color-unfitted-level-1);\n",
       "}\n",
       "\n",
       ".sk-estimator-doc-link.fitted,\n",
       "a:link.sk-estimator-doc-link.fitted,\n",
       "a:visited.sk-estimator-doc-link.fitted {\n",
       "  /* fitted */\n",
       "  border: var(--sklearn-color-fitted-level-1) 1pt solid;\n",
       "  color: var(--sklearn-color-fitted-level-1);\n",
       "}\n",
       "\n",
       "/* On hover */\n",
       "div.sk-estimator:hover .sk-estimator-doc-link:hover,\n",
       ".sk-estimator-doc-link:hover,\n",
       "div.sk-label-container:hover .sk-estimator-doc-link:hover,\n",
       ".sk-estimator-doc-link:hover {\n",
       "  /* unfitted */\n",
       "  background-color: var(--sklearn-color-unfitted-level-3);\n",
       "  color: var(--sklearn-color-background);\n",
       "  text-decoration: none;\n",
       "}\n",
       "\n",
       "div.sk-estimator.fitted:hover .sk-estimator-doc-link.fitted:hover,\n",
       ".sk-estimator-doc-link.fitted:hover,\n",
       "div.sk-label-container:hover .sk-estimator-doc-link.fitted:hover,\n",
       ".sk-estimator-doc-link.fitted:hover {\n",
       "  /* fitted */\n",
       "  background-color: var(--sklearn-color-fitted-level-3);\n",
       "  color: var(--sklearn-color-background);\n",
       "  text-decoration: none;\n",
       "}\n",
       "\n",
       "/* Span, style for the box shown on hovering the info icon */\n",
       ".sk-estimator-doc-link span {\n",
       "  display: none;\n",
       "  z-index: 9999;\n",
       "  position: relative;\n",
       "  font-weight: normal;\n",
       "  right: .2ex;\n",
       "  padding: .5ex;\n",
       "  margin: .5ex;\n",
       "  width: min-content;\n",
       "  min-width: 20ex;\n",
       "  max-width: 50ex;\n",
       "  color: var(--sklearn-color-text);\n",
       "  box-shadow: 2pt 2pt 4pt #999;\n",
       "  /* unfitted */\n",
       "  background: var(--sklearn-color-unfitted-level-0);\n",
       "  border: .5pt solid var(--sklearn-color-unfitted-level-3);\n",
       "}\n",
       "\n",
       ".sk-estimator-doc-link.fitted span {\n",
       "  /* fitted */\n",
       "  background: var(--sklearn-color-fitted-level-0);\n",
       "  border: var(--sklearn-color-fitted-level-3);\n",
       "}\n",
       "\n",
       ".sk-estimator-doc-link:hover span {\n",
       "  display: block;\n",
       "}\n",
       "\n",
       "/* \"?\"-specific style due to the `<a>` HTML tag */\n",
       "\n",
       "#sk-container-id-23 a.estimator_doc_link {\n",
       "  float: right;\n",
       "  font-size: 1rem;\n",
       "  line-height: 1em;\n",
       "  font-family: monospace;\n",
       "  background-color: var(--sklearn-color-background);\n",
       "  border-radius: 1rem;\n",
       "  height: 1rem;\n",
       "  width: 1rem;\n",
       "  text-decoration: none;\n",
       "  /* unfitted */\n",
       "  color: var(--sklearn-color-unfitted-level-1);\n",
       "  border: var(--sklearn-color-unfitted-level-1) 1pt solid;\n",
       "}\n",
       "\n",
       "#sk-container-id-23 a.estimator_doc_link.fitted {\n",
       "  /* fitted */\n",
       "  border: var(--sklearn-color-fitted-level-1) 1pt solid;\n",
       "  color: var(--sklearn-color-fitted-level-1);\n",
       "}\n",
       "\n",
       "/* On hover */\n",
       "#sk-container-id-23 a.estimator_doc_link:hover {\n",
       "  /* unfitted */\n",
       "  background-color: var(--sklearn-color-unfitted-level-3);\n",
       "  color: var(--sklearn-color-background);\n",
       "  text-decoration: none;\n",
       "}\n",
       "\n",
       "#sk-container-id-23 a.estimator_doc_link.fitted:hover {\n",
       "  /* fitted */\n",
       "  background-color: var(--sklearn-color-fitted-level-3);\n",
       "}\n",
       "</style><div id=\"sk-container-id-23\" class=\"sk-top-container\"><div class=\"sk-text-repr-fallback\"><pre>RandomForestClassifier(max_depth=4, random_state=42)</pre><b>In a Jupyter environment, please rerun this cell to show the HTML representation or trust the notebook. <br />On GitHub, the HTML representation is unable to render, please try loading this page with nbviewer.org.</b></div><div class=\"sk-container\" hidden><div class=\"sk-item\"><div class=\"sk-estimator fitted sk-toggleable\"><input class=\"sk-toggleable__control sk-hidden--visually\" id=\"sk-estimator-id-23\" type=\"checkbox\" checked><label for=\"sk-estimator-id-23\" class=\"sk-toggleable__label fitted sk-toggleable__label-arrow\"><div><div>RandomForestClassifier</div></div><div><a class=\"sk-estimator-doc-link fitted\" rel=\"noreferrer\" target=\"_blank\" href=\"https://scikit-learn.org/1.6/modules/generated/sklearn.ensemble.RandomForestClassifier.html\">?<span>Documentation for RandomForestClassifier</span></a><span class=\"sk-estimator-doc-link fitted\">i<span>Fitted</span></span></div></label><div class=\"sk-toggleable__content fitted\"><pre>RandomForestClassifier(max_depth=4, random_state=42)</pre></div> </div></div></div></div>"
      ],
      "text/plain": [
       "RandomForestClassifier(max_depth=4, random_state=42)"
      ]
     },
     "execution_count": 890,
     "metadata": {},
     "output_type": "execute_result"
    }
   ],
   "source": [
    "rf_model= RandomForestClassifier(random_state= 42, criterion= 'gini', max_depth= 4, n_estimators= 100)\n",
    "rf_model.fit(x_train, y_train)"
   ]
  },
  {
   "cell_type": "markdown",
   "id": "4a32914d",
   "metadata": {},
   "source": [
    "- Membuat model random forest dengan parameter estimator 100, max_depth 4, dan kriteria \"gini\" untuk pemisahan node. Setelah itu model akan latih dengan data train"
   ]
  },
  {
   "cell_type": "code",
   "execution_count": 891,
   "id": "921f9c0b",
   "metadata": {},
   "outputs": [],
   "source": [
    "y_pred_rf= rf_model.predict(x_test)"
   ]
  },
  {
   "cell_type": "markdown",
   "id": "7a49e9e9",
   "metadata": {},
   "source": [
    "- Pake model yang sudah di latih tadi untuk memprediksi loan status pada test data "
   ]
  },
  {
   "cell_type": "markdown",
   "id": "0b35ac03",
   "metadata": {},
   "source": [
    "### XGBoost  "
   ]
  },
  {
   "cell_type": "code",
   "execution_count": 892,
   "id": "774803d5",
   "metadata": {},
   "outputs": [
    {
     "data": {
      "text/html": [
       "<style>#sk-container-id-24 {\n",
       "  /* Definition of color scheme common for light and dark mode */\n",
       "  --sklearn-color-text: #000;\n",
       "  --sklearn-color-text-muted: #666;\n",
       "  --sklearn-color-line: gray;\n",
       "  /* Definition of color scheme for unfitted estimators */\n",
       "  --sklearn-color-unfitted-level-0: #fff5e6;\n",
       "  --sklearn-color-unfitted-level-1: #f6e4d2;\n",
       "  --sklearn-color-unfitted-level-2: #ffe0b3;\n",
       "  --sklearn-color-unfitted-level-3: chocolate;\n",
       "  /* Definition of color scheme for fitted estimators */\n",
       "  --sklearn-color-fitted-level-0: #f0f8ff;\n",
       "  --sklearn-color-fitted-level-1: #d4ebff;\n",
       "  --sklearn-color-fitted-level-2: #b3dbfd;\n",
       "  --sklearn-color-fitted-level-3: cornflowerblue;\n",
       "\n",
       "  /* Specific color for light theme */\n",
       "  --sklearn-color-text-on-default-background: var(--sg-text-color, var(--theme-code-foreground, var(--jp-content-font-color1, black)));\n",
       "  --sklearn-color-background: var(--sg-background-color, var(--theme-background, var(--jp-layout-color0, white)));\n",
       "  --sklearn-color-border-box: var(--sg-text-color, var(--theme-code-foreground, var(--jp-content-font-color1, black)));\n",
       "  --sklearn-color-icon: #696969;\n",
       "\n",
       "  @media (prefers-color-scheme: dark) {\n",
       "    /* Redefinition of color scheme for dark theme */\n",
       "    --sklearn-color-text-on-default-background: var(--sg-text-color, var(--theme-code-foreground, var(--jp-content-font-color1, white)));\n",
       "    --sklearn-color-background: var(--sg-background-color, var(--theme-background, var(--jp-layout-color0, #111)));\n",
       "    --sklearn-color-border-box: var(--sg-text-color, var(--theme-code-foreground, var(--jp-content-font-color1, white)));\n",
       "    --sklearn-color-icon: #878787;\n",
       "  }\n",
       "}\n",
       "\n",
       "#sk-container-id-24 {\n",
       "  color: var(--sklearn-color-text);\n",
       "}\n",
       "\n",
       "#sk-container-id-24 pre {\n",
       "  padding: 0;\n",
       "}\n",
       "\n",
       "#sk-container-id-24 input.sk-hidden--visually {\n",
       "  border: 0;\n",
       "  clip: rect(1px 1px 1px 1px);\n",
       "  clip: rect(1px, 1px, 1px, 1px);\n",
       "  height: 1px;\n",
       "  margin: -1px;\n",
       "  overflow: hidden;\n",
       "  padding: 0;\n",
       "  position: absolute;\n",
       "  width: 1px;\n",
       "}\n",
       "\n",
       "#sk-container-id-24 div.sk-dashed-wrapped {\n",
       "  border: 1px dashed var(--sklearn-color-line);\n",
       "  margin: 0 0.4em 0.5em 0.4em;\n",
       "  box-sizing: border-box;\n",
       "  padding-bottom: 0.4em;\n",
       "  background-color: var(--sklearn-color-background);\n",
       "}\n",
       "\n",
       "#sk-container-id-24 div.sk-container {\n",
       "  /* jupyter's `normalize.less` sets `[hidden] { display: none; }`\n",
       "     but bootstrap.min.css set `[hidden] { display: none !important; }`\n",
       "     so we also need the `!important` here to be able to override the\n",
       "     default hidden behavior on the sphinx rendered scikit-learn.org.\n",
       "     See: https://github.com/scikit-learn/scikit-learn/issues/21755 */\n",
       "  display: inline-block !important;\n",
       "  position: relative;\n",
       "}\n",
       "\n",
       "#sk-container-id-24 div.sk-text-repr-fallback {\n",
       "  display: none;\n",
       "}\n",
       "\n",
       "div.sk-parallel-item,\n",
       "div.sk-serial,\n",
       "div.sk-item {\n",
       "  /* draw centered vertical line to link estimators */\n",
       "  background-image: linear-gradient(var(--sklearn-color-text-on-default-background), var(--sklearn-color-text-on-default-background));\n",
       "  background-size: 2px 100%;\n",
       "  background-repeat: no-repeat;\n",
       "  background-position: center center;\n",
       "}\n",
       "\n",
       "/* Parallel-specific style estimator block */\n",
       "\n",
       "#sk-container-id-24 div.sk-parallel-item::after {\n",
       "  content: \"\";\n",
       "  width: 100%;\n",
       "  border-bottom: 2px solid var(--sklearn-color-text-on-default-background);\n",
       "  flex-grow: 1;\n",
       "}\n",
       "\n",
       "#sk-container-id-24 div.sk-parallel {\n",
       "  display: flex;\n",
       "  align-items: stretch;\n",
       "  justify-content: center;\n",
       "  background-color: var(--sklearn-color-background);\n",
       "  position: relative;\n",
       "}\n",
       "\n",
       "#sk-container-id-24 div.sk-parallel-item {\n",
       "  display: flex;\n",
       "  flex-direction: column;\n",
       "}\n",
       "\n",
       "#sk-container-id-24 div.sk-parallel-item:first-child::after {\n",
       "  align-self: flex-end;\n",
       "  width: 50%;\n",
       "}\n",
       "\n",
       "#sk-container-id-24 div.sk-parallel-item:last-child::after {\n",
       "  align-self: flex-start;\n",
       "  width: 50%;\n",
       "}\n",
       "\n",
       "#sk-container-id-24 div.sk-parallel-item:only-child::after {\n",
       "  width: 0;\n",
       "}\n",
       "\n",
       "/* Serial-specific style estimator block */\n",
       "\n",
       "#sk-container-id-24 div.sk-serial {\n",
       "  display: flex;\n",
       "  flex-direction: column;\n",
       "  align-items: center;\n",
       "  background-color: var(--sklearn-color-background);\n",
       "  padding-right: 1em;\n",
       "  padding-left: 1em;\n",
       "}\n",
       "\n",
       "\n",
       "/* Toggleable style: style used for estimator/Pipeline/ColumnTransformer box that is\n",
       "clickable and can be expanded/collapsed.\n",
       "- Pipeline and ColumnTransformer use this feature and define the default style\n",
       "- Estimators will overwrite some part of the style using the `sk-estimator` class\n",
       "*/\n",
       "\n",
       "/* Pipeline and ColumnTransformer style (default) */\n",
       "\n",
       "#sk-container-id-24 div.sk-toggleable {\n",
       "  /* Default theme specific background. It is overwritten whether we have a\n",
       "  specific estimator or a Pipeline/ColumnTransformer */\n",
       "  background-color: var(--sklearn-color-background);\n",
       "}\n",
       "\n",
       "/* Toggleable label */\n",
       "#sk-container-id-24 label.sk-toggleable__label {\n",
       "  cursor: pointer;\n",
       "  display: flex;\n",
       "  width: 100%;\n",
       "  margin-bottom: 0;\n",
       "  padding: 0.5em;\n",
       "  box-sizing: border-box;\n",
       "  text-align: center;\n",
       "  align-items: start;\n",
       "  justify-content: space-between;\n",
       "  gap: 0.5em;\n",
       "}\n",
       "\n",
       "#sk-container-id-24 label.sk-toggleable__label .caption {\n",
       "  font-size: 0.6rem;\n",
       "  font-weight: lighter;\n",
       "  color: var(--sklearn-color-text-muted);\n",
       "}\n",
       "\n",
       "#sk-container-id-24 label.sk-toggleable__label-arrow:before {\n",
       "  /* Arrow on the left of the label */\n",
       "  content: \"▸\";\n",
       "  float: left;\n",
       "  margin-right: 0.25em;\n",
       "  color: var(--sklearn-color-icon);\n",
       "}\n",
       "\n",
       "#sk-container-id-24 label.sk-toggleable__label-arrow:hover:before {\n",
       "  color: var(--sklearn-color-text);\n",
       "}\n",
       "\n",
       "/* Toggleable content - dropdown */\n",
       "\n",
       "#sk-container-id-24 div.sk-toggleable__content {\n",
       "  max-height: 0;\n",
       "  max-width: 0;\n",
       "  overflow: hidden;\n",
       "  text-align: left;\n",
       "  /* unfitted */\n",
       "  background-color: var(--sklearn-color-unfitted-level-0);\n",
       "}\n",
       "\n",
       "#sk-container-id-24 div.sk-toggleable__content.fitted {\n",
       "  /* fitted */\n",
       "  background-color: var(--sklearn-color-fitted-level-0);\n",
       "}\n",
       "\n",
       "#sk-container-id-24 div.sk-toggleable__content pre {\n",
       "  margin: 0.2em;\n",
       "  border-radius: 0.25em;\n",
       "  color: var(--sklearn-color-text);\n",
       "  /* unfitted */\n",
       "  background-color: var(--sklearn-color-unfitted-level-0);\n",
       "}\n",
       "\n",
       "#sk-container-id-24 div.sk-toggleable__content.fitted pre {\n",
       "  /* unfitted */\n",
       "  background-color: var(--sklearn-color-fitted-level-0);\n",
       "}\n",
       "\n",
       "#sk-container-id-24 input.sk-toggleable__control:checked~div.sk-toggleable__content {\n",
       "  /* Expand drop-down */\n",
       "  max-height: 200px;\n",
       "  max-width: 100%;\n",
       "  overflow: auto;\n",
       "}\n",
       "\n",
       "#sk-container-id-24 input.sk-toggleable__control:checked~label.sk-toggleable__label-arrow:before {\n",
       "  content: \"▾\";\n",
       "}\n",
       "\n",
       "/* Pipeline/ColumnTransformer-specific style */\n",
       "\n",
       "#sk-container-id-24 div.sk-label input.sk-toggleable__control:checked~label.sk-toggleable__label {\n",
       "  color: var(--sklearn-color-text);\n",
       "  background-color: var(--sklearn-color-unfitted-level-2);\n",
       "}\n",
       "\n",
       "#sk-container-id-24 div.sk-label.fitted input.sk-toggleable__control:checked~label.sk-toggleable__label {\n",
       "  background-color: var(--sklearn-color-fitted-level-2);\n",
       "}\n",
       "\n",
       "/* Estimator-specific style */\n",
       "\n",
       "/* Colorize estimator box */\n",
       "#sk-container-id-24 div.sk-estimator input.sk-toggleable__control:checked~label.sk-toggleable__label {\n",
       "  /* unfitted */\n",
       "  background-color: var(--sklearn-color-unfitted-level-2);\n",
       "}\n",
       "\n",
       "#sk-container-id-24 div.sk-estimator.fitted input.sk-toggleable__control:checked~label.sk-toggleable__label {\n",
       "  /* fitted */\n",
       "  background-color: var(--sklearn-color-fitted-level-2);\n",
       "}\n",
       "\n",
       "#sk-container-id-24 div.sk-label label.sk-toggleable__label,\n",
       "#sk-container-id-24 div.sk-label label {\n",
       "  /* The background is the default theme color */\n",
       "  color: var(--sklearn-color-text-on-default-background);\n",
       "}\n",
       "\n",
       "/* On hover, darken the color of the background */\n",
       "#sk-container-id-24 div.sk-label:hover label.sk-toggleable__label {\n",
       "  color: var(--sklearn-color-text);\n",
       "  background-color: var(--sklearn-color-unfitted-level-2);\n",
       "}\n",
       "\n",
       "/* Label box, darken color on hover, fitted */\n",
       "#sk-container-id-24 div.sk-label.fitted:hover label.sk-toggleable__label.fitted {\n",
       "  color: var(--sklearn-color-text);\n",
       "  background-color: var(--sklearn-color-fitted-level-2);\n",
       "}\n",
       "\n",
       "/* Estimator label */\n",
       "\n",
       "#sk-container-id-24 div.sk-label label {\n",
       "  font-family: monospace;\n",
       "  font-weight: bold;\n",
       "  display: inline-block;\n",
       "  line-height: 1.2em;\n",
       "}\n",
       "\n",
       "#sk-container-id-24 div.sk-label-container {\n",
       "  text-align: center;\n",
       "}\n",
       "\n",
       "/* Estimator-specific */\n",
       "#sk-container-id-24 div.sk-estimator {\n",
       "  font-family: monospace;\n",
       "  border: 1px dotted var(--sklearn-color-border-box);\n",
       "  border-radius: 0.25em;\n",
       "  box-sizing: border-box;\n",
       "  margin-bottom: 0.5em;\n",
       "  /* unfitted */\n",
       "  background-color: var(--sklearn-color-unfitted-level-0);\n",
       "}\n",
       "\n",
       "#sk-container-id-24 div.sk-estimator.fitted {\n",
       "  /* fitted */\n",
       "  background-color: var(--sklearn-color-fitted-level-0);\n",
       "}\n",
       "\n",
       "/* on hover */\n",
       "#sk-container-id-24 div.sk-estimator:hover {\n",
       "  /* unfitted */\n",
       "  background-color: var(--sklearn-color-unfitted-level-2);\n",
       "}\n",
       "\n",
       "#sk-container-id-24 div.sk-estimator.fitted:hover {\n",
       "  /* fitted */\n",
       "  background-color: var(--sklearn-color-fitted-level-2);\n",
       "}\n",
       "\n",
       "/* Specification for estimator info (e.g. \"i\" and \"?\") */\n",
       "\n",
       "/* Common style for \"i\" and \"?\" */\n",
       "\n",
       ".sk-estimator-doc-link,\n",
       "a:link.sk-estimator-doc-link,\n",
       "a:visited.sk-estimator-doc-link {\n",
       "  float: right;\n",
       "  font-size: smaller;\n",
       "  line-height: 1em;\n",
       "  font-family: monospace;\n",
       "  background-color: var(--sklearn-color-background);\n",
       "  border-radius: 1em;\n",
       "  height: 1em;\n",
       "  width: 1em;\n",
       "  text-decoration: none !important;\n",
       "  margin-left: 0.5em;\n",
       "  text-align: center;\n",
       "  /* unfitted */\n",
       "  border: var(--sklearn-color-unfitted-level-1) 1pt solid;\n",
       "  color: var(--sklearn-color-unfitted-level-1);\n",
       "}\n",
       "\n",
       ".sk-estimator-doc-link.fitted,\n",
       "a:link.sk-estimator-doc-link.fitted,\n",
       "a:visited.sk-estimator-doc-link.fitted {\n",
       "  /* fitted */\n",
       "  border: var(--sklearn-color-fitted-level-1) 1pt solid;\n",
       "  color: var(--sklearn-color-fitted-level-1);\n",
       "}\n",
       "\n",
       "/* On hover */\n",
       "div.sk-estimator:hover .sk-estimator-doc-link:hover,\n",
       ".sk-estimator-doc-link:hover,\n",
       "div.sk-label-container:hover .sk-estimator-doc-link:hover,\n",
       ".sk-estimator-doc-link:hover {\n",
       "  /* unfitted */\n",
       "  background-color: var(--sklearn-color-unfitted-level-3);\n",
       "  color: var(--sklearn-color-background);\n",
       "  text-decoration: none;\n",
       "}\n",
       "\n",
       "div.sk-estimator.fitted:hover .sk-estimator-doc-link.fitted:hover,\n",
       ".sk-estimator-doc-link.fitted:hover,\n",
       "div.sk-label-container:hover .sk-estimator-doc-link.fitted:hover,\n",
       ".sk-estimator-doc-link.fitted:hover {\n",
       "  /* fitted */\n",
       "  background-color: var(--sklearn-color-fitted-level-3);\n",
       "  color: var(--sklearn-color-background);\n",
       "  text-decoration: none;\n",
       "}\n",
       "\n",
       "/* Span, style for the box shown on hovering the info icon */\n",
       ".sk-estimator-doc-link span {\n",
       "  display: none;\n",
       "  z-index: 9999;\n",
       "  position: relative;\n",
       "  font-weight: normal;\n",
       "  right: .2ex;\n",
       "  padding: .5ex;\n",
       "  margin: .5ex;\n",
       "  width: min-content;\n",
       "  min-width: 20ex;\n",
       "  max-width: 50ex;\n",
       "  color: var(--sklearn-color-text);\n",
       "  box-shadow: 2pt 2pt 4pt #999;\n",
       "  /* unfitted */\n",
       "  background: var(--sklearn-color-unfitted-level-0);\n",
       "  border: .5pt solid var(--sklearn-color-unfitted-level-3);\n",
       "}\n",
       "\n",
       ".sk-estimator-doc-link.fitted span {\n",
       "  /* fitted */\n",
       "  background: var(--sklearn-color-fitted-level-0);\n",
       "  border: var(--sklearn-color-fitted-level-3);\n",
       "}\n",
       "\n",
       ".sk-estimator-doc-link:hover span {\n",
       "  display: block;\n",
       "}\n",
       "\n",
       "/* \"?\"-specific style due to the `<a>` HTML tag */\n",
       "\n",
       "#sk-container-id-24 a.estimator_doc_link {\n",
       "  float: right;\n",
       "  font-size: 1rem;\n",
       "  line-height: 1em;\n",
       "  font-family: monospace;\n",
       "  background-color: var(--sklearn-color-background);\n",
       "  border-radius: 1rem;\n",
       "  height: 1rem;\n",
       "  width: 1rem;\n",
       "  text-decoration: none;\n",
       "  /* unfitted */\n",
       "  color: var(--sklearn-color-unfitted-level-1);\n",
       "  border: var(--sklearn-color-unfitted-level-1) 1pt solid;\n",
       "}\n",
       "\n",
       "#sk-container-id-24 a.estimator_doc_link.fitted {\n",
       "  /* fitted */\n",
       "  border: var(--sklearn-color-fitted-level-1) 1pt solid;\n",
       "  color: var(--sklearn-color-fitted-level-1);\n",
       "}\n",
       "\n",
       "/* On hover */\n",
       "#sk-container-id-24 a.estimator_doc_link:hover {\n",
       "  /* unfitted */\n",
       "  background-color: var(--sklearn-color-unfitted-level-3);\n",
       "  color: var(--sklearn-color-background);\n",
       "  text-decoration: none;\n",
       "}\n",
       "\n",
       "#sk-container-id-24 a.estimator_doc_link.fitted:hover {\n",
       "  /* fitted */\n",
       "  background-color: var(--sklearn-color-fitted-level-3);\n",
       "}\n",
       "</style><div id=\"sk-container-id-24\" class=\"sk-top-container\"><div class=\"sk-text-repr-fallback\"><pre>XGBClassifier(base_score=None, booster=None, callbacks=None,\n",
       "              colsample_bylevel=None, colsample_bynode=None,\n",
       "              colsample_bytree=None, device=None, early_stopping_rounds=None,\n",
       "              enable_categorical=False, eval_metric=None, feature_types=None,\n",
       "              feature_weights=None, gamma=None, grow_policy=None,\n",
       "              importance_type=None, interaction_constraints=None,\n",
       "              learning_rate=None, max_bin=None, max_cat_threshold=None,\n",
       "              max_cat_to_onehot=None, max_delta_step=None, max_depth=8,\n",
       "              max_leaves=None, min_child_weight=50, missing=nan,\n",
       "              monotone_constraints=None, multi_strategy=None, n_estimators=100,\n",
       "              n_jobs=None, num_parallel_tree=None, ...)</pre><b>In a Jupyter environment, please rerun this cell to show the HTML representation or trust the notebook. <br />On GitHub, the HTML representation is unable to render, please try loading this page with nbviewer.org.</b></div><div class=\"sk-container\" hidden><div class=\"sk-item\"><div class=\"sk-estimator fitted sk-toggleable\"><input class=\"sk-toggleable__control sk-hidden--visually\" id=\"sk-estimator-id-24\" type=\"checkbox\" checked><label for=\"sk-estimator-id-24\" class=\"sk-toggleable__label fitted sk-toggleable__label-arrow\"><div><div>XGBClassifier</div></div><div><a class=\"sk-estimator-doc-link fitted\" rel=\"noreferrer\" target=\"_blank\" href=\"https://xgboost.readthedocs.io/en/release_3.0.0/python/python_api.html#xgboost.XGBClassifier\">?<span>Documentation for XGBClassifier</span></a><span class=\"sk-estimator-doc-link fitted\">i<span>Fitted</span></span></div></label><div class=\"sk-toggleable__content fitted\"><pre>XGBClassifier(base_score=None, booster=None, callbacks=None,\n",
       "              colsample_bylevel=None, colsample_bynode=None,\n",
       "              colsample_bytree=None, device=None, early_stopping_rounds=None,\n",
       "              enable_categorical=False, eval_metric=None, feature_types=None,\n",
       "              feature_weights=None, gamma=None, grow_policy=None,\n",
       "              importance_type=None, interaction_constraints=None,\n",
       "              learning_rate=None, max_bin=None, max_cat_threshold=None,\n",
       "              max_cat_to_onehot=None, max_delta_step=None, max_depth=8,\n",
       "              max_leaves=None, min_child_weight=50, missing=nan,\n",
       "              monotone_constraints=None, multi_strategy=None, n_estimators=100,\n",
       "              n_jobs=None, num_parallel_tree=None, ...)</pre></div> </div></div></div></div>"
      ],
      "text/plain": [
       "XGBClassifier(base_score=None, booster=None, callbacks=None,\n",
       "              colsample_bylevel=None, colsample_bynode=None,\n",
       "              colsample_bytree=None, device=None, early_stopping_rounds=None,\n",
       "              enable_categorical=False, eval_metric=None, feature_types=None,\n",
       "              feature_weights=None, gamma=None, grow_policy=None,\n",
       "              importance_type=None, interaction_constraints=None,\n",
       "              learning_rate=None, max_bin=None, max_cat_threshold=None,\n",
       "              max_cat_to_onehot=None, max_delta_step=None, max_depth=8,\n",
       "              max_leaves=None, min_child_weight=50, missing=nan,\n",
       "              monotone_constraints=None, multi_strategy=None, n_estimators=100,\n",
       "              n_jobs=None, num_parallel_tree=None, ...)"
      ]
     },
     "execution_count": 892,
     "metadata": {},
     "output_type": "execute_result"
    }
   ],
   "source": [
    "xgb_model= XGBClassifier(random_state= 42, n_estimators= 100, min_child_weight= 50, max_depth= 8)\n",
    "xgb_model.fit(x_train, y_train)"
   ]
  },
  {
   "cell_type": "markdown",
   "id": "cdff0960",
   "metadata": {},
   "source": [
    "- Membuat model xgBoost dengan parameter estimator 100, max_depth 8, dan min_child_weight 50 untuk mengontrol kompleksitas tree. Setelah itu model akan latih dengan data train"
   ]
  },
  {
   "cell_type": "code",
   "execution_count": 893,
   "id": "6e35b575",
   "metadata": {},
   "outputs": [],
   "source": [
    "y_pred_xgb= xgb_model.predict(x_test)"
   ]
  },
  {
   "cell_type": "markdown",
   "id": "99ae7602",
   "metadata": {},
   "source": [
    "- Pake model yang sudah di latih tadi untuk memprediksi loan status pada test data "
   ]
  },
  {
   "cell_type": "markdown",
   "id": "e202daf9",
   "metadata": {},
   "source": [
    "## Evaluation"
   ]
  },
  {
   "cell_type": "code",
   "execution_count": 894,
   "id": "e5304bf5",
   "metadata": {},
   "outputs": [
    {
     "name": "stdout",
     "output_type": "stream",
     "text": [
      "Classification Report Random Forest\n",
      "\n",
      "              precision    recall  f1-score   support\n",
      "\n",
      "           0       0.87      1.00      0.93      6990\n",
      "           1       0.97      0.48      0.64      2010\n",
      "\n",
      "    accuracy                           0.88      9000\n",
      "   macro avg       0.92      0.74      0.79      9000\n",
      "weighted avg       0.89      0.88      0.87      9000\n",
      "\n"
     ]
    }
   ],
   "source": [
    "print('Classification Report Random Forest\\n')\n",
    "print(classification_report(y_test, y_pred_rf))"
   ]
  },
  {
   "cell_type": "code",
   "execution_count": 895,
   "id": "6e0b15ed",
   "metadata": {},
   "outputs": [
    {
     "name": "stdout",
     "output_type": "stream",
     "text": [
      "Classification Report XGBoost\n",
      "\n",
      "              precision    recall  f1-score   support\n",
      "\n",
      "           0       0.94      0.97      0.96      6990\n",
      "           1       0.88      0.79      0.83      2010\n",
      "\n",
      "    accuracy                           0.93      9000\n",
      "   macro avg       0.91      0.88      0.90      9000\n",
      "weighted avg       0.93      0.93      0.93      9000\n",
      "\n"
     ]
    }
   ],
   "source": [
    "print('Classification Report XGBoost\\n')\n",
    "print(classification_report(y_test, y_pred_xgb))"
   ]
  },
  {
   "cell_type": "markdown",
   "id": "e8387ebc",
   "metadata": {},
   "source": [
    "- Berdasarkan nilai accuracy, XGBoost lebih unggul dalam akurasi yang menunjukkan bahwa secara keseluruhan XGBoost memprediksi lebih baik\n",
    "- Pada kelas 0, XGBoost lebih baik dalam memprediksi kelas 0 walaupun recall pada Random Forest lebih baik. Hal ini terbukti dari nilai f1 score yang lebih tinggi yang menunjukan nilai precision dan recall yang lebih seimbang\n",
    "- Hal ini juga berlaku sama terhadap kelas 1. Walaupun precision Random Forest lebih tinggi, nilai recall pada XGBoost jauh lebih tinggi. Nilai f1 score XGBoost juga lebih jauh lebih tinggi sebesar 0.2 yang menunjukkan nilai precision dan recall yang lebih seimbang\n",
    "- Secara keseluruhan, nilai marcro average f1 score XGBoost jauh lebih tinggi yang menandakan model XGBoost lebih bagus dalam memprediksi semua kelas dengan baik\n",
    "- Sehingga, dapat disimpulkan bahwa model XGBoost merupakan model terbaik"
   ]
  },
  {
   "cell_type": "code",
   "execution_count": 896,
   "id": "e0a1209d",
   "metadata": {},
   "outputs": [],
   "source": [
    "pickle.dump(xgb_model, open(\"xgb_model.pkl\", \"wb\"))"
   ]
  },
  {
   "cell_type": "markdown",
   "id": "e73d5033",
   "metadata": {},
   "source": [
    "- Karena model XGBoost merupakan model yang terbaik, maka akan disimpan dalam bentuk pickle untuk pembuatan streamlit nanti",
    "- Karena model sudah cukup baik, maka tidak diperlukan sampling data" 
   ]
  }
 ],
 "metadata": {
  "kernelspec": {
   "display_name": "Python 3",
   "language": "python",
   "name": "python3"
  },
  "language_info": {
   "codemirror_mode": {
    "name": "ipython",
    "version": 3
   },
   "file_extension": ".py",
   "mimetype": "text/x-python",
   "name": "python",
   "nbconvert_exporter": "python",
   "pygments_lexer": "ipython3",
   "version": "3.10.11"
  }
 },
 "nbformat": 4,
 "nbformat_minor": 5
}
